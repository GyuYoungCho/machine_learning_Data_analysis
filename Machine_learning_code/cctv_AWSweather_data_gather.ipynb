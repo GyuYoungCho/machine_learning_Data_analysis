{
 "cells": [
  {
   "cell_type": "code",
   "execution_count": 76,
   "metadata": {},
   "outputs": [],
   "source": [
    "import requests\n",
    "from bs4 import BeautifulSoup\n",
    "import time\n",
    "from urllib.robotparser import RobotFileParser\n",
    "from requests.compat import urlparse, urljoin\n",
    "from requests.exceptions import HTTPError\n",
    "import re\n",
    "\n",
    "headers = {'user-agent':\"Mozilla/5.0 (Windows NT 10.0; Win64; x64) AppleWebKit/537.36 (KHTML, like Gecko) Chrome/83.0.4103.116 Safari/537.36\"}\n",
    "\n",
    "def canfetch(url, agent='*', path='/'):\n",
    "    robot = RobotFileParser(urljoin(url, '/robots.txt'))\n",
    "    robot.read()\n",
    "    return robot.can_fetch(agent, urlparse(url)[2])\n",
    "    \n",
    "def download(url, params={}, headers={}, method='GET', limit=3):\n",
    "    method = method.upper()\n",
    "    if canfetch(url) == False:\n",
    "        print('[Error] ' + url)\n",
    "#     else: #bot 접근 못하게 막은데있어어 else뺌\n",
    "        try:\n",
    "            resp = requests.request(method, url,\n",
    "                   params=params if method=='GET' else {},\n",
    "                   data=params if method=='POST' else {},\n",
    "                   headers=headers)\n",
    "            resp.raise_for_status()\n",
    "        except HTTPError as e:\n",
    "            if limit > 0 and e.response.status_code >= 500: # 500 에러 재귀 ;너무많은 트래픽 안생기도록\n",
    "                print(limit)\n",
    "                time.sleep(300) # => random, 1초에 1번\n",
    "                resp = download(url, params, headers, method, limit-1)\n",
    "            else:\n",
    "                print('[{}] '.format(e.response.status_code) + url)\n",
    "                print(e.response.status_code)\n",
    "                print(e.response.reason)\n",
    "                print(e.response.headers)\n",
    "        return resp"
   ]
  },
  {
   "cell_type": "code",
   "execution_count": 63,
   "metadata": {},
   "outputs": [],
   "source": [
    "url = 'http://openapi.its.go.kr:8081/api/NCCTVInfo'\n",
    "api_key = '1602398376506'\n",
    "params= {\n",
    "    'key':api_key,\n",
    "    'ReqType':'2',\n",
    "    'type ':'ex',\n",
    "    'MinX' : 127.100000,\n",
    "    'MaxX' : 128.890000,\n",
    "    'MinY' : 34.100000,\n",
    "    'MaxY' : 39.100000\n",
    "}\n",
    "resp=download(url,params, headers,'POST')"
   ]
  },
  {
   "cell_type": "code",
   "execution_count": 64,
   "metadata": {},
   "outputs": [],
   "source": [
    "dom = BeautifulSoup(resp.text, 'html.parser')"
   ]
  },
  {
   "cell_type": "code",
   "execution_count": 65,
   "metadata": {},
   "outputs": [],
   "source": [
    "col = ['roadsectionid','filecreatetime','cctvtype','cctvurl','cctvresolution','coordy','cctvformat','cctvname','coordx']\n",
    "row = []\n",
    "rows = []\n",
    "for i in dom.find_all('data'):\n",
    "    for co in col:\n",
    "        k = i.find(co).text.strip()\n",
    "        row.append(k)\n",
    "    rows.append(row)\n",
    "    row = []"
   ]
  },
  {
   "cell_type": "code",
   "execution_count": 66,
   "metadata": {},
   "outputs": [
    {
     "data": {
      "text/html": [
       "<div>\n",
       "<style scoped>\n",
       "    .dataframe tbody tr th:only-of-type {\n",
       "        vertical-align: middle;\n",
       "    }\n",
       "\n",
       "    .dataframe tbody tr th {\n",
       "        vertical-align: top;\n",
       "    }\n",
       "\n",
       "    .dataframe thead th {\n",
       "        text-align: right;\n",
       "    }\n",
       "</style>\n",
       "<table border=\"1\" class=\"dataframe\">\n",
       "  <thead>\n",
       "    <tr style=\"text-align: right;\">\n",
       "      <th></th>\n",
       "      <th>roadsectionid</th>\n",
       "      <th>filecreatetime</th>\n",
       "      <th>cctvtype</th>\n",
       "      <th>cctvurl</th>\n",
       "      <th>cctvresolution</th>\n",
       "      <th>coordy</th>\n",
       "      <th>cctvformat</th>\n",
       "      <th>cctvname</th>\n",
       "      <th>coordx</th>\n",
       "    </tr>\n",
       "  </thead>\n",
       "  <tbody>\n",
       "    <tr>\n",
       "      <th>0</th>\n",
       "      <td></td>\n",
       "      <td></td>\n",
       "      <td>2</td>\n",
       "      <td>http://cctvsec.ktict.co.kr/2/Do71Nvv+HamcAfOiT...</td>\n",
       "      <td></td>\n",
       "      <td>37.42889</td>\n",
       "      <td>MP4</td>\n",
       "      <td>[서울외곽선] 성남</td>\n",
       "      <td>127.12361</td>\n",
       "    </tr>\n",
       "    <tr>\n",
       "      <th>1</th>\n",
       "      <td></td>\n",
       "      <td></td>\n",
       "      <td>2</td>\n",
       "      <td>http://cctvsec.ktict.co.kr/3/9sQQra/DP1w1VIjZu...</td>\n",
       "      <td></td>\n",
       "      <td>37.43909</td>\n",
       "      <td>MP4</td>\n",
       "      <td>[서울외곽선] 성남영업소</td>\n",
       "      <td>127.12262</td>\n",
       "    </tr>\n",
       "    <tr>\n",
       "      <th>2</th>\n",
       "      <td></td>\n",
       "      <td></td>\n",
       "      <td>2</td>\n",
       "      <td>http://cctvsec.ktict.co.kr/4/Ishh8oNCksfXOlFzQ...</td>\n",
       "      <td></td>\n",
       "      <td>37.475</td>\n",
       "      <td>MP4</td>\n",
       "      <td>[서울외곽선] 송파</td>\n",
       "      <td>127.12944</td>\n",
       "    </tr>\n",
       "    <tr>\n",
       "      <th>3</th>\n",
       "      <td></td>\n",
       "      <td></td>\n",
       "      <td>2</td>\n",
       "      <td>http://cctvsec.ktict.co.kr/5/azcq8e7d5lOPfYjjx...</td>\n",
       "      <td></td>\n",
       "      <td>37.51167</td>\n",
       "      <td>MP4</td>\n",
       "      <td>[서울외곽선] 서하남</td>\n",
       "      <td>127.14972</td>\n",
       "    </tr>\n",
       "    <tr>\n",
       "      <th>4</th>\n",
       "      <td></td>\n",
       "      <td></td>\n",
       "      <td>2</td>\n",
       "      <td>http://cctvsec.ktict.co.kr/6/ImX13W+ZpBe0tusyH...</td>\n",
       "      <td></td>\n",
       "      <td>37.51527778</td>\n",
       "      <td>MP4</td>\n",
       "      <td>[서울외곽선] 광암터널2</td>\n",
       "      <td>127.1652778</td>\n",
       "    </tr>\n",
       "  </tbody>\n",
       "</table>\n",
       "</div>"
      ],
      "text/plain": [
       "  roadsectionid filecreatetime cctvtype  \\\n",
       "0                                     2   \n",
       "1                                     2   \n",
       "2                                     2   \n",
       "3                                     2   \n",
       "4                                     2   \n",
       "\n",
       "                                             cctvurl cctvresolution  \\\n",
       "0  http://cctvsec.ktict.co.kr/2/Do71Nvv+HamcAfOiT...                  \n",
       "1  http://cctvsec.ktict.co.kr/3/9sQQra/DP1w1VIjZu...                  \n",
       "2  http://cctvsec.ktict.co.kr/4/Ishh8oNCksfXOlFzQ...                  \n",
       "3  http://cctvsec.ktict.co.kr/5/azcq8e7d5lOPfYjjx...                  \n",
       "4  http://cctvsec.ktict.co.kr/6/ImX13W+ZpBe0tusyH...                  \n",
       "\n",
       "        coordy cctvformat       cctvname       coordx  \n",
       "0     37.42889        MP4     [서울외곽선] 성남    127.12361  \n",
       "1     37.43909        MP4  [서울외곽선] 성남영업소    127.12262  \n",
       "2       37.475        MP4     [서울외곽선] 송파    127.12944  \n",
       "3     37.51167        MP4    [서울외곽선] 서하남    127.14972  \n",
       "4  37.51527778        MP4  [서울외곽선] 광암터널2  127.1652778  "
      ]
     },
     "execution_count": 66,
     "metadata": {},
     "output_type": "execute_result"
    }
   ],
   "source": [
    "import pandas as pd\n",
    "data = pd.DataFrame(rows,columns=col)\n",
    "data.head()"
   ]
  },
  {
   "cell_type": "code",
   "execution_count": 67,
   "metadata": {},
   "outputs": [
    {
     "name": "stdout",
     "output_type": "stream",
     "text": [
      "2331\n",
      "2331\n",
      "0\n",
      "0\n",
      "2331\n",
      "0\n",
      "0\n",
      "0\n",
      "0\n"
     ]
    }
   ],
   "source": [
    "for i in col:\n",
    "    print(sum(data[i]==''))"
   ]
  },
  {
   "cell_type": "code",
   "execution_count": 68,
   "metadata": {
    "scrolled": false
   },
   "outputs": [
    {
     "data": {
      "text/html": [
       "<div>\n",
       "<style scoped>\n",
       "    .dataframe tbody tr th:only-of-type {\n",
       "        vertical-align: middle;\n",
       "    }\n",
       "\n",
       "    .dataframe tbody tr th {\n",
       "        vertical-align: top;\n",
       "    }\n",
       "\n",
       "    .dataframe thead th {\n",
       "        text-align: right;\n",
       "    }\n",
       "</style>\n",
       "<table border=\"1\" class=\"dataframe\">\n",
       "  <thead>\n",
       "    <tr style=\"text-align: right;\">\n",
       "      <th></th>\n",
       "      <th>cctvurl</th>\n",
       "      <th>coordy</th>\n",
       "      <th>cctvname</th>\n",
       "      <th>coordx</th>\n",
       "    </tr>\n",
       "  </thead>\n",
       "  <tbody>\n",
       "    <tr>\n",
       "      <th>0</th>\n",
       "      <td>http://cctvsec.ktict.co.kr/2/Do71Nvv+HamcAfOiT...</td>\n",
       "      <td>37.42889</td>\n",
       "      <td>[서울외곽선] 성남</td>\n",
       "      <td>127.12361</td>\n",
       "    </tr>\n",
       "    <tr>\n",
       "      <th>1</th>\n",
       "      <td>http://cctvsec.ktict.co.kr/3/9sQQra/DP1w1VIjZu...</td>\n",
       "      <td>37.43909</td>\n",
       "      <td>[서울외곽선] 성남영업소</td>\n",
       "      <td>127.12262</td>\n",
       "    </tr>\n",
       "    <tr>\n",
       "      <th>2</th>\n",
       "      <td>http://cctvsec.ktict.co.kr/4/Ishh8oNCksfXOlFzQ...</td>\n",
       "      <td>37.475</td>\n",
       "      <td>[서울외곽선] 송파</td>\n",
       "      <td>127.12944</td>\n",
       "    </tr>\n",
       "    <tr>\n",
       "      <th>3</th>\n",
       "      <td>http://cctvsec.ktict.co.kr/5/azcq8e7d5lOPfYjjx...</td>\n",
       "      <td>37.51167</td>\n",
       "      <td>[서울외곽선] 서하남</td>\n",
       "      <td>127.14972</td>\n",
       "    </tr>\n",
       "    <tr>\n",
       "      <th>4</th>\n",
       "      <td>http://cctvsec.ktict.co.kr/6/ImX13W+ZpBe0tusyH...</td>\n",
       "      <td>37.51527778</td>\n",
       "      <td>[서울외곽선] 광암터널2</td>\n",
       "      <td>127.1652778</td>\n",
       "    </tr>\n",
       "  </tbody>\n",
       "</table>\n",
       "</div>"
      ],
      "text/plain": [
       "                                             cctvurl       coordy  \\\n",
       "0  http://cctvsec.ktict.co.kr/2/Do71Nvv+HamcAfOiT...     37.42889   \n",
       "1  http://cctvsec.ktict.co.kr/3/9sQQra/DP1w1VIjZu...     37.43909   \n",
       "2  http://cctvsec.ktict.co.kr/4/Ishh8oNCksfXOlFzQ...       37.475   \n",
       "3  http://cctvsec.ktict.co.kr/5/azcq8e7d5lOPfYjjx...     37.51167   \n",
       "4  http://cctvsec.ktict.co.kr/6/ImX13W+ZpBe0tusyH...  37.51527778   \n",
       "\n",
       "        cctvname       coordx  \n",
       "0     [서울외곽선] 성남    127.12361  \n",
       "1  [서울외곽선] 성남영업소    127.12262  \n",
       "2     [서울외곽선] 송파    127.12944  \n",
       "3    [서울외곽선] 서하남    127.14972  \n",
       "4  [서울외곽선] 광암터널2  127.1652778  "
      ]
     },
     "execution_count": 68,
     "metadata": {},
     "output_type": "execute_result"
    }
   ],
   "source": [
    "data = data.drop(['roadsectionid','filecreatetime','cctvresolution','cctvformat','cctvtype'],axis=1)\n",
    "data.head()"
   ]
  },
  {
   "cell_type": "code",
   "execution_count": 92,
   "metadata": {},
   "outputs": [
    {
     "data": {
      "text/plain": [
       "'http://cctvsec.ktict.co.kr/2345/TckwwQSiuA6VAOYzZ5Wed+xA6MEnFejP/yIXw9bsEumvqYck2H0rEHLO5xoPOowd'"
      ]
     },
     "execution_count": 92,
     "metadata": {},
     "output_type": "execute_result"
    }
   ],
   "source": [
    "data['cctvurl'][470]"
   ]
  },
  {
   "cell_type": "code",
   "execution_count": 69,
   "metadata": {},
   "outputs": [],
   "source": [
    "data.to_csv('CCTV.csv',index=False)"
   ]
  },
  {
   "cell_type": "code",
   "execution_count": 90,
   "metadata": {},
   "outputs": [
    {
     "ename": "FileNotFoundError",
     "evalue": "[Errno 2] No such file or directory: 'data/[서울양양선] [양양]인제양양터널(115/115).mp4'",
     "output_type": "error",
     "traceback": [
      "\u001b[1;31m---------------------------------------------------------------------------\u001b[0m",
      "\u001b[1;31mFileNotFoundError\u001b[0m                         Traceback (most recent call last)",
      "\u001b[1;32m<ipython-input-90-9204cfc3c483>\u001b[0m in \u001b[0;36m<module>\u001b[1;34m\u001b[0m\n\u001b[0;32m      1\u001b[0m \u001b[1;32mimport\u001b[0m \u001b[0murllib\u001b[0m\u001b[1;33m\u001b[0m\u001b[1;33m\u001b[0m\u001b[0m\n\u001b[0;32m      2\u001b[0m \u001b[1;32mfor\u001b[0m \u001b[0murl\u001b[0m\u001b[1;33m,\u001b[0m\u001b[0mname\u001b[0m \u001b[1;32min\u001b[0m \u001b[0mzip\u001b[0m\u001b[1;33m(\u001b[0m\u001b[0mdata\u001b[0m\u001b[1;33m[\u001b[0m\u001b[1;34m'cctvurl'\u001b[0m\u001b[1;33m]\u001b[0m\u001b[1;33m,\u001b[0m\u001b[0mdata\u001b[0m\u001b[1;33m[\u001b[0m\u001b[1;34m'cctvname'\u001b[0m\u001b[1;33m]\u001b[0m\u001b[1;33m)\u001b[0m\u001b[1;33m:\u001b[0m\u001b[1;33m\u001b[0m\u001b[1;33m\u001b[0m\u001b[0m\n\u001b[1;32m----> 3\u001b[1;33m     \u001b[0murllib\u001b[0m\u001b[1;33m.\u001b[0m\u001b[0mrequest\u001b[0m\u001b[1;33m.\u001b[0m\u001b[0murlretrieve\u001b[0m\u001b[1;33m(\u001b[0m\u001b[0murl\u001b[0m\u001b[1;33m,\u001b[0m\u001b[1;34m'data/'\u001b[0m\u001b[1;33m+\u001b[0m \u001b[0mname\u001b[0m \u001b[1;33m+\u001b[0m \u001b[1;34m'.mp4'\u001b[0m\u001b[1;33m)\u001b[0m\u001b[1;33m\u001b[0m\u001b[1;33m\u001b[0m\u001b[0m\n\u001b[0m",
      "\u001b[1;32m~\\Anaconda3\\envs\\py37\\lib\\urllib\\request.py\u001b[0m in \u001b[0;36murlretrieve\u001b[1;34m(url, filename, reporthook, data)\u001b[0m\n\u001b[0;32m    256\u001b[0m         \u001b[1;31m# Handle temporary file setup.\u001b[0m\u001b[1;33m\u001b[0m\u001b[1;33m\u001b[0m\u001b[1;33m\u001b[0m\u001b[0m\n\u001b[0;32m    257\u001b[0m         \u001b[1;32mif\u001b[0m \u001b[0mfilename\u001b[0m\u001b[1;33m:\u001b[0m\u001b[1;33m\u001b[0m\u001b[1;33m\u001b[0m\u001b[0m\n\u001b[1;32m--> 258\u001b[1;33m             \u001b[0mtfp\u001b[0m \u001b[1;33m=\u001b[0m \u001b[0mopen\u001b[0m\u001b[1;33m(\u001b[0m\u001b[0mfilename\u001b[0m\u001b[1;33m,\u001b[0m \u001b[1;34m'wb'\u001b[0m\u001b[1;33m)\u001b[0m\u001b[1;33m\u001b[0m\u001b[1;33m\u001b[0m\u001b[0m\n\u001b[0m\u001b[0;32m    259\u001b[0m         \u001b[1;32melse\u001b[0m\u001b[1;33m:\u001b[0m\u001b[1;33m\u001b[0m\u001b[1;33m\u001b[0m\u001b[0m\n\u001b[0;32m    260\u001b[0m             \u001b[0mtfp\u001b[0m \u001b[1;33m=\u001b[0m \u001b[0mtempfile\u001b[0m\u001b[1;33m.\u001b[0m\u001b[0mNamedTemporaryFile\u001b[0m\u001b[1;33m(\u001b[0m\u001b[0mdelete\u001b[0m\u001b[1;33m=\u001b[0m\u001b[1;32mFalse\u001b[0m\u001b[1;33m)\u001b[0m\u001b[1;33m\u001b[0m\u001b[1;33m\u001b[0m\u001b[0m\n",
      "\u001b[1;31mFileNotFoundError\u001b[0m: [Errno 2] No such file or directory: 'data/[서울양양선] [양양]인제양양터널(115/115).mp4'"
     ]
    }
   ],
   "source": [
    "import urllib\n",
    "for url,name in zip(data['cctvurl'],data['cctvname']):\n",
    "    urllib.request.urlretrieve(url,'data/'+ name + '.mp4')"
   ]
  },
  {
   "cell_type": "code",
   "execution_count": 80,
   "metadata": {},
   "outputs": [
    {
     "data": {
      "text/plain": [
       "<Response [400]>"
      ]
     },
     "execution_count": 80,
     "metadata": {},
     "output_type": "execute_result"
    }
   ],
   "source": [
    "CCTV"
   ]
  },
  {
   "cell_type": "code",
   "execution_count": 57,
   "metadata": {},
   "outputs": [
    {
     "data": {
      "text/plain": [
       "2    2332\n",
       "Name: cctvtype, dtype: int64"
      ]
     },
     "execution_count": 57,
     "metadata": {},
     "output_type": "execute_result"
    }
   ],
   "source": [
    "import seaborn as sns\n",
    "data['cctvtype'].value_counts()"
   ]
  },
  {
   "cell_type": "code",
   "execution_count": 70,
   "metadata": {},
   "outputs": [],
   "source": [
    "url = 'https://www.weather.go.kr/cgi-bin/aws/nph-aws_txt_min_guide_test?202010111514&-60&MINDB_01M&0&m&K'\n",
    "resp=download(url,  headers = headers,method= 'POST')"
   ]
  },
  {
   "cell_type": "code",
   "execution_count": 71,
   "metadata": {},
   "outputs": [],
   "source": [
    "dom = BeautifulSoup(resp.content, 'lxml')"
   ]
  },
  {
   "cell_type": "code",
   "execution_count": 72,
   "metadata": {},
   "outputs": [
    {
     "data": {
      "text/plain": [
       "2"
      ]
     },
     "execution_count": 72,
     "metadata": {},
     "output_type": "execute_result"
    }
   ],
   "source": [
    "k =pd.read_html(str(dom.find('table')),header=0)\n",
    "len(k)"
   ]
  },
  {
   "cell_type": "code",
   "execution_count": 73,
   "metadata": {},
   "outputs": [],
   "source": [
    "k[1].to_csv('AWS_measure.csv',index=False)"
   ]
  }
 ],
 "metadata": {
  "kernelspec": {
   "display_name": "Python [conda env:py37] *",
   "language": "python",
   "name": "conda-env-py37-py"
  },
  "language_info": {
   "codemirror_mode": {
    "name": "ipython",
    "version": 3
   },
   "file_extension": ".py",
   "mimetype": "text/x-python",
   "name": "python",
   "nbconvert_exporter": "python",
   "pygments_lexer": "ipython3",
   "version": "3.6.9"
  }
 },
 "nbformat": 4,
 "nbformat_minor": 2
}
