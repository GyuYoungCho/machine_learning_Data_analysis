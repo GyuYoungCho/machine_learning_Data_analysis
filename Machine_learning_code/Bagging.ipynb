{
 "cells": [
  {
   "cell_type": "code",
   "execution_count": 21,
   "metadata": {},
   "outputs": [
    {
     "data": {
      "text/plain": [
       "(15129, 8)"
      ]
     },
     "execution_count": 21,
     "metadata": {},
     "output_type": "execute_result"
    }
   ],
   "source": [
    "import os\n",
    "import pandas as pd\n",
    "import numpy as np\n",
    "from sklearn.model_selection import train_test_split\n",
    "\n",
    "os.getcwd()\n",
    "data = pd.read_csv(\"kc_house_data.csv\") \n",
    "nCar = data.shape[0]\n",
    "nVar = data.shape[1] \n",
    "data = data.drop(['id', 'date', 'zipcode', 'lat', 'long'], axis = 1)\n",
    "\n",
    "feature_columns = list(data.columns.difference(['price']))\n",
    "X = data[feature_columns]\n",
    "y = data['price']\n",
    "train_x, test_x, train_y, test_y = train_test_split(X, y, test_size = 0.3, random_state = 42)\n",
    "train_x.shape"
   ]
  },
  {
   "cell_type": "code",
   "execution_count": 31,
   "metadata": {},
   "outputs": [
    {
     "name": "stdout",
     "output_type": "stream",
     "text": [
      "<class 'pandas.core.frame.DataFrame'>\n",
      "240034.74173217005\n",
      "<class 'pandas.core.frame.DataFrame'>\n",
      "239970.73071334604\n",
      "<class 'pandas.core.frame.DataFrame'>\n",
      "240029.5203788115\n",
      "<class 'pandas.core.frame.DataFrame'>\n",
      "240040.9176261382\n",
      "<class 'pandas.core.frame.DataFrame'>\n",
      "239937.12214863396\n",
      "<class 'pandas.core.frame.DataFrame'>\n",
      "239810.098222217\n",
      "<class 'pandas.core.frame.DataFrame'>\n",
      "239834.10019466185\n",
      "<class 'pandas.core.frame.DataFrame'>\n",
      "240312.72734804498\n",
      "<class 'pandas.core.frame.DataFrame'>\n",
      "239716.15523240023\n",
      "<class 'pandas.core.frame.DataFrame'>\n",
      "239737.70227635794\n"
     ]
    },
    {
     "name": "stderr",
     "output_type": "stream",
     "text": [
      "C:\\Users\\Gyu\\Anaconda3\\envs\\py37\\lib\\site-packages\\numpy\\core\\fromnumeric.py:2389: FutureWarning: Method .ptp is deprecated and will be removed in a future version. Use numpy.ptp instead.\n",
      "  return ptp(axis=axis, out=out, **kwargs)\n",
      "C:\\Users\\Gyu\\Anaconda3\\envs\\py37\\lib\\site-packages\\numpy\\core\\fromnumeric.py:2389: FutureWarning: Method .ptp is deprecated and will be removed in a future version. Use numpy.ptp instead.\n",
      "  return ptp(axis=axis, out=out, **kwargs)\n",
      "C:\\Users\\Gyu\\Anaconda3\\envs\\py37\\lib\\site-packages\\numpy\\core\\fromnumeric.py:2389: FutureWarning: Method .ptp is deprecated and will be removed in a future version. Use numpy.ptp instead.\n",
      "  return ptp(axis=axis, out=out, **kwargs)\n",
      "C:\\Users\\Gyu\\Anaconda3\\envs\\py37\\lib\\site-packages\\numpy\\core\\fromnumeric.py:2389: FutureWarning: Method .ptp is deprecated and will be removed in a future version. Use numpy.ptp instead.\n",
      "  return ptp(axis=axis, out=out, **kwargs)\n",
      "C:\\Users\\Gyu\\Anaconda3\\envs\\py37\\lib\\site-packages\\numpy\\core\\fromnumeric.py:2389: FutureWarning: Method .ptp is deprecated and will be removed in a future version. Use numpy.ptp instead.\n",
      "  return ptp(axis=axis, out=out, **kwargs)\n",
      "C:\\Users\\Gyu\\Anaconda3\\envs\\py37\\lib\\site-packages\\numpy\\core\\fromnumeric.py:2389: FutureWarning: Method .ptp is deprecated and will be removed in a future version. Use numpy.ptp instead.\n",
      "  return ptp(axis=axis, out=out, **kwargs)\n",
      "C:\\Users\\Gyu\\Anaconda3\\envs\\py37\\lib\\site-packages\\numpy\\core\\fromnumeric.py:2389: FutureWarning: Method .ptp is deprecated and will be removed in a future version. Use numpy.ptp instead.\n",
      "  return ptp(axis=axis, out=out, **kwargs)\n",
      "C:\\Users\\Gyu\\Anaconda3\\envs\\py37\\lib\\site-packages\\numpy\\core\\fromnumeric.py:2389: FutureWarning: Method .ptp is deprecated and will be removed in a future version. Use numpy.ptp instead.\n",
      "  return ptp(axis=axis, out=out, **kwargs)\n",
      "C:\\Users\\Gyu\\Anaconda3\\envs\\py37\\lib\\site-packages\\numpy\\core\\fromnumeric.py:2389: FutureWarning: Method .ptp is deprecated and will be removed in a future version. Use numpy.ptp instead.\n",
      "  return ptp(axis=axis, out=out, **kwargs)\n"
     ]
    }
   ],
   "source": [
    "# bagging 구현\n",
    "import random\n",
    "import statsmodels.api as sm\n",
    "from sklearn.metrics import mean_squared_error, r2_score\n",
    "from math import sqrt\n",
    "\n",
    "\n",
    "sm_test_x = sm.add_constant(test_x,has_constant=\"add\")\n",
    "bagging_predict_result = []\n",
    "\n",
    "for _ in range(10):\n",
    "    data_index = [data_index for data_index in range(train_x.shape[0])]\n",
    "    random_data_index = np.random.choice(data_index, train_x.shape[0])\n",
    "    sm_train_x = train_x.iloc[random_data_index,]\n",
    "    sm_train_y = train_y.iloc[random_data_index,]\n",
    "    print(type(sm_train_x))\n",
    "    sm_train_x = sm.add_constant(sm_train_x, has_constant = \"add\")\n",
    "    sm_model = sm.OLS(sm_train_y,sm_train_x)\n",
    "    fitted_model = sm_model.fit()\n",
    "    pred = fitted_model.predict(sm_test_x)\n",
    "    bagging_predict_result.append(pred)\n",
    "    print(sqrt(mean_squared_error(pred,test_y)))"
   ]
  },
  {
   "cell_type": "code",
   "execution_count": 33,
   "metadata": {},
   "outputs": [
    {
     "data": {
      "text/plain": [
       "239836.24419333765"
      ]
     },
     "execution_count": 33,
     "metadata": {},
     "output_type": "execute_result"
    }
   ],
   "source": [
    "# result 의 평균값으로 계산\n",
    "bagging_predict = []\n",
    "for lst2 in range(test_x.shape[0]):\n",
    "    temp_predict = []\n",
    "    for lst in range(len(bagging_predict_result)):\n",
    "        temp_predict.append(bagging_predict_result[lst].values[lst2])\n",
    "    bagging_predict.append(np.mean(temp_predict))\n",
    "sqrt(mean_squared_error(bagging_predict,test_y))"
   ]
  },
  {
   "cell_type": "code",
   "execution_count": null,
   "metadata": {},
   "outputs": [],
   "source": []
  }
 ],
 "metadata": {
  "kernelspec": {
   "display_name": "Python [conda env:py37] *",
   "language": "python",
   "name": "conda-env-py37-py"
  },
  "language_info": {
   "codemirror_mode": {
    "name": "ipython",
    "version": 3
   },
   "file_extension": ".py",
   "mimetype": "text/x-python",
   "name": "python",
   "nbconvert_exporter": "python",
   "pygments_lexer": "ipython3",
   "version": "3.6.9"
  }
 },
 "nbformat": 4,
 "nbformat_minor": 2
}
