{
 "cells": [
  {
   "cell_type": "code",
   "execution_count": 2,
   "metadata": {},
   "outputs": [],
   "source": [
    "import pandas as pd\n",
    "import os"
   ]
  },
  {
   "cell_type": "code",
   "execution_count": 3,
   "metadata": {},
   "outputs": [
    {
     "data": {
      "text/html": [
       "<div>\n",
       "<style scoped>\n",
       "    .dataframe tbody tr th:only-of-type {\n",
       "        vertical-align: middle;\n",
       "    }\n",
       "\n",
       "    .dataframe tbody tr th {\n",
       "        vertical-align: top;\n",
       "    }\n",
       "\n",
       "    .dataframe thead th {\n",
       "        text-align: right;\n",
       "    }\n",
       "</style>\n",
       "<table border=\"1\" class=\"dataframe\">\n",
       "  <thead>\n",
       "    <tr style=\"text-align: right;\">\n",
       "      <th></th>\n",
       "      <th>일자</th>\n",
       "      <th>지점</th>\n",
       "      <th>품명</th>\n",
       "      <th>수량</th>\n",
       "      <th>주문인 ID</th>\n",
       "      <th>수령 주소</th>\n",
       "      <th>주문 상태</th>\n",
       "      <th>결제 수단</th>\n",
       "    </tr>\n",
       "  </thead>\n",
       "  <tbody>\n",
       "    <tr>\n",
       "      <th>0</th>\n",
       "      <td>2018.1.1</td>\n",
       "      <td>지점1</td>\n",
       "      <td>제품B</td>\n",
       "      <td>3</td>\n",
       "      <td>C-168</td>\n",
       "      <td>서울특별시 동작구 흑석동</td>\n",
       "      <td>주문완료</td>\n",
       "      <td>인터넷뱅킹</td>\n",
       "    </tr>\n",
       "    <tr>\n",
       "      <th>1</th>\n",
       "      <td>2018.1.1</td>\n",
       "      <td>지점2</td>\n",
       "      <td>제품F</td>\n",
       "      <td>8</td>\n",
       "      <td>C-87</td>\n",
       "      <td>서울특별시 서대문구 신촌동</td>\n",
       "      <td>배송완료</td>\n",
       "      <td>신용카드</td>\n",
       "    </tr>\n",
       "    <tr>\n",
       "      <th>2</th>\n",
       "      <td>2018.1.1</td>\n",
       "      <td>지점4</td>\n",
       "      <td>제품B</td>\n",
       "      <td>2</td>\n",
       "      <td>C-158</td>\n",
       "      <td>서울특별시 종로구 종로5가</td>\n",
       "      <td>배송완료</td>\n",
       "      <td>휴대폰결제</td>\n",
       "    </tr>\n",
       "    <tr>\n",
       "      <th>3</th>\n",
       "      <td>2018.1.1</td>\n",
       "      <td>지점3</td>\n",
       "      <td>제품D</td>\n",
       "      <td>7</td>\n",
       "      <td>C-307</td>\n",
       "      <td>서울특별시 서대문구 냉천동</td>\n",
       "      <td>주문완료</td>\n",
       "      <td>휴대폰결제</td>\n",
       "    </tr>\n",
       "    <tr>\n",
       "      <th>4</th>\n",
       "      <td>2018.1.1</td>\n",
       "      <td>지점2</td>\n",
       "      <td>제품E</td>\n",
       "      <td>9</td>\n",
       "      <td>C-342</td>\n",
       "      <td>서울특별시 종로구 묘동</td>\n",
       "      <td>배송완료</td>\n",
       "      <td>인터넷뱅킹</td>\n",
       "    </tr>\n",
       "  </tbody>\n",
       "</table>\n",
       "</div>"
      ],
      "text/plain": [
       "         일자   지점   품명  수량 주문인 ID           수령 주소 주문 상태  결제 수단\n",
       "0  2018.1.1  지점1  제품B   3  C-168   서울특별시 동작구 흑석동  주문완료  인터넷뱅킹\n",
       "1  2018.1.1  지점2  제품F   8   C-87  서울특별시 서대문구 신촌동  배송완료   신용카드\n",
       "2  2018.1.1  지점4  제품B   2  C-158  서울특별시 종로구 종로5가  배송완료  휴대폰결제\n",
       "3  2018.1.1  지점3  제품D   7  C-307  서울특별시 서대문구 냉천동  주문완료  휴대폰결제\n",
       "4  2018.1.1  지점2  제품E   9  C-342    서울특별시 종로구 묘동  배송완료  인터넷뱅킹"
      ]
     },
     "execution_count": 3,
     "metadata": {},
     "output_type": "execute_result"
    }
   ],
   "source": [
    "sheet_names = [str(i+1) +'월' for i in range(12)]\n",
    "merged_df = pd.DataFrame()\n",
    "for sn in sheet_names:\n",
    "    df = pd.read_excel(\"월별매출데이터.xlsx\", sheet_name = sn, skiprows = range(6)).iloc[:, 1:]\n",
    "    merged_df = pd.concat([merged_df, df], axis = 0, ignore_index = True)\n",
    "    \n",
    "merged_df.head()"
   ]
  },
  {
   "cell_type": "code",
   "execution_count": 9,
   "metadata": {},
   "outputs": [],
   "source": [
    "merged_df['일자'] = merged_df['일자'].str.replace('.', '-')"
   ]
  },
  {
   "cell_type": "code",
   "execution_count": 4,
   "metadata": {},
   "outputs": [
    {
     "data": {
      "text/html": [
       "<div>\n",
       "<style scoped>\n",
       "    .dataframe tbody tr th:only-of-type {\n",
       "        vertical-align: middle;\n",
       "    }\n",
       "\n",
       "    .dataframe tbody tr th {\n",
       "        vertical-align: top;\n",
       "    }\n",
       "\n",
       "    .dataframe thead th {\n",
       "        text-align: right;\n",
       "    }\n",
       "</style>\n",
       "<table border=\"1\" class=\"dataframe\">\n",
       "  <thead>\n",
       "    <tr style=\"text-align: right;\">\n",
       "      <th></th>\n",
       "      <th>0</th>\n",
       "    </tr>\n",
       "  </thead>\n",
       "  <tbody>\n",
       "    <tr>\n",
       "      <th>제품</th>\n",
       "      <td>가격</td>\n",
       "    </tr>\n",
       "    <tr>\n",
       "      <th>제품A</th>\n",
       "      <td>20000</td>\n",
       "    </tr>\n",
       "    <tr>\n",
       "      <th>제품B</th>\n",
       "      <td>5000</td>\n",
       "    </tr>\n",
       "    <tr>\n",
       "      <th>제품C</th>\n",
       "      <td>10000</td>\n",
       "    </tr>\n",
       "    <tr>\n",
       "      <th>제품D</th>\n",
       "      <td>8000</td>\n",
       "    </tr>\n",
       "    <tr>\n",
       "      <th>제품E</th>\n",
       "      <td>30000</td>\n",
       "    </tr>\n",
       "    <tr>\n",
       "      <th>제품F</th>\n",
       "      <td>15000</td>\n",
       "    </tr>\n",
       "  </tbody>\n",
       "</table>\n",
       "</div>"
      ],
      "text/plain": [
       "         0\n",
       "제품      가격\n",
       "제품A  20000\n",
       "제품B   5000\n",
       "제품C  10000\n",
       "제품D   8000\n",
       "제품E  30000\n",
       "제품F  15000"
      ]
     },
     "execution_count": 4,
     "metadata": {},
     "output_type": "execute_result"
    }
   ],
   "source": [
    "price_df = pd.read_excel(\"제품별_가격정보.xlsx\").T\n",
    "price_df"
   ]
  },
  {
   "cell_type": "code",
   "execution_count": 5,
   "metadata": {},
   "outputs": [
    {
     "data": {
      "text/plain": [
       "{'제품A': 20000,\n",
       " '제품B': 5000,\n",
       " '제품C': 10000,\n",
       " '제품D': 8000,\n",
       " '제품E': 30000,\n",
       " '제품F': 15000}"
      ]
     },
     "execution_count": 5,
     "metadata": {},
     "output_type": "execute_result"
    }
   ],
   "source": [
    "price_dict = price_df.loc['제품A':'제품F', 0].to_dict() # to_dict(): series를 dictionary로 변환 (index -> key, data -> value)\n",
    "price_dict"
   ]
  },
  {
   "cell_type": "code",
   "execution_count": 7,
   "metadata": {},
   "outputs": [
    {
     "data": {
      "text/html": [
       "<div>\n",
       "<style scoped>\n",
       "    .dataframe tbody tr th:only-of-type {\n",
       "        vertical-align: middle;\n",
       "    }\n",
       "\n",
       "    .dataframe tbody tr th {\n",
       "        vertical-align: top;\n",
       "    }\n",
       "\n",
       "    .dataframe thead th {\n",
       "        text-align: right;\n",
       "    }\n",
       "</style>\n",
       "<table border=\"1\" class=\"dataframe\">\n",
       "  <thead>\n",
       "    <tr style=\"text-align: right;\">\n",
       "      <th></th>\n",
       "      <th>일자</th>\n",
       "      <th>지점</th>\n",
       "      <th>품명</th>\n",
       "      <th>수량</th>\n",
       "      <th>주문인 ID</th>\n",
       "      <th>수령 주소</th>\n",
       "      <th>주문 상태</th>\n",
       "      <th>결제 수단</th>\n",
       "      <th>가격</th>\n",
       "      <th>주문 금액</th>\n",
       "    </tr>\n",
       "  </thead>\n",
       "  <tbody>\n",
       "    <tr>\n",
       "      <th>0</th>\n",
       "      <td>2018.1.1</td>\n",
       "      <td>지점1</td>\n",
       "      <td>제품B</td>\n",
       "      <td>3</td>\n",
       "      <td>C-168</td>\n",
       "      <td>서울특별시 동작구 흑석동</td>\n",
       "      <td>주문완료</td>\n",
       "      <td>인터넷뱅킹</td>\n",
       "      <td>5000</td>\n",
       "      <td>16500.0</td>\n",
       "    </tr>\n",
       "    <tr>\n",
       "      <th>1</th>\n",
       "      <td>2018.1.1</td>\n",
       "      <td>지점2</td>\n",
       "      <td>제품F</td>\n",
       "      <td>8</td>\n",
       "      <td>C-87</td>\n",
       "      <td>서울특별시 서대문구 신촌동</td>\n",
       "      <td>배송완료</td>\n",
       "      <td>신용카드</td>\n",
       "      <td>15000</td>\n",
       "      <td>132000.0</td>\n",
       "    </tr>\n",
       "    <tr>\n",
       "      <th>2</th>\n",
       "      <td>2018.1.1</td>\n",
       "      <td>지점4</td>\n",
       "      <td>제품B</td>\n",
       "      <td>2</td>\n",
       "      <td>C-158</td>\n",
       "      <td>서울특별시 종로구 종로5가</td>\n",
       "      <td>배송완료</td>\n",
       "      <td>휴대폰결제</td>\n",
       "      <td>5000</td>\n",
       "      <td>11000.0</td>\n",
       "    </tr>\n",
       "    <tr>\n",
       "      <th>3</th>\n",
       "      <td>2018.1.1</td>\n",
       "      <td>지점3</td>\n",
       "      <td>제품D</td>\n",
       "      <td>7</td>\n",
       "      <td>C-307</td>\n",
       "      <td>서울특별시 서대문구 냉천동</td>\n",
       "      <td>주문완료</td>\n",
       "      <td>휴대폰결제</td>\n",
       "      <td>8000</td>\n",
       "      <td>61600.0</td>\n",
       "    </tr>\n",
       "    <tr>\n",
       "      <th>4</th>\n",
       "      <td>2018.1.1</td>\n",
       "      <td>지점2</td>\n",
       "      <td>제품E</td>\n",
       "      <td>9</td>\n",
       "      <td>C-342</td>\n",
       "      <td>서울특별시 종로구 묘동</td>\n",
       "      <td>배송완료</td>\n",
       "      <td>인터넷뱅킹</td>\n",
       "      <td>30000</td>\n",
       "      <td>297000.0</td>\n",
       "    </tr>\n",
       "  </tbody>\n",
       "</table>\n",
       "</div>"
      ],
      "text/plain": [
       "         일자   지점   품명  수량 주문인 ID           수령 주소 주문 상태  결제 수단     가격     주문 금액\n",
       "0  2018.1.1  지점1  제품B   3  C-168   서울특별시 동작구 흑석동  주문완료  인터넷뱅킹   5000   16500.0\n",
       "1  2018.1.1  지점2  제품F   8   C-87  서울특별시 서대문구 신촌동  배송완료   신용카드  15000  132000.0\n",
       "2  2018.1.1  지점4  제품B   2  C-158  서울특별시 종로구 종로5가  배송완료  휴대폰결제   5000   11000.0\n",
       "3  2018.1.1  지점3  제품D   7  C-307  서울특별시 서대문구 냉천동  주문완료  휴대폰결제   8000   61600.0\n",
       "4  2018.1.1  지점2  제품E   9  C-342    서울특별시 종로구 묘동  배송완료  인터넷뱅킹  30000  297000.0"
      ]
     },
     "execution_count": 7,
     "metadata": {},
     "output_type": "execute_result"
    }
   ],
   "source": [
    "# replace: 품명 컬럼에 price dict의 key가 있으면 value로 바꿈\n",
    "merged_df['가격'] = merged_df['품명'].replace(price_dict)\n",
    "# 새로운 변수 정의\n",
    "merged_df['주문 금액'] = merged_df['수량'] * merged_df['가격'] * 1.1 \n",
    "merged_df.head()"
   ]
  },
  {
   "cell_type": "code",
   "execution_count": 10,
   "metadata": {},
   "outputs": [],
   "source": [
    "# 일자 변수에서 월만 추출 (일자 변수가 object type\n",
    "# split을 하더라도 object여서 astype으로 int로 변경함)\n",
    "merged_df['월'] = merged_df['일자'].str.split('-', expand = True).iloc[:, 1].astype(int)"
   ]
  },
  {
   "cell_type": "code",
   "execution_count": 14,
   "metadata": {},
   "outputs": [],
   "source": [
    "%matplotlib inline\n",
    "import matplotlib.pyplot as plt\n",
    "plt.rcParams[\"font.family\"] = 'Malgun Gothic'\n",
    "plt.rcParams[\"font.size\"] = 20\n",
    "plt.rcParams[\"figure.figsize\"] = (8, 10)"
   ]
  },
  {
   "cell_type": "code",
   "execution_count": 12,
   "metadata": {},
   "outputs": [
    {
     "data": {
      "text/html": [
       "<div>\n",
       "<style scoped>\n",
       "    .dataframe tbody tr th:only-of-type {\n",
       "        vertical-align: middle;\n",
       "    }\n",
       "\n",
       "    .dataframe tbody tr th {\n",
       "        vertical-align: top;\n",
       "    }\n",
       "\n",
       "    .dataframe thead th {\n",
       "        text-align: right;\n",
       "    }\n",
       "</style>\n",
       "<table border=\"1\" class=\"dataframe\">\n",
       "  <thead>\n",
       "    <tr style=\"text-align: right;\">\n",
       "      <th></th>\n",
       "      <th>월</th>\n",
       "      <th>주문 금액</th>\n",
       "    </tr>\n",
       "  </thead>\n",
       "  <tbody>\n",
       "    <tr>\n",
       "      <th>0</th>\n",
       "      <td>1</td>\n",
       "      <td>114211900.0</td>\n",
       "    </tr>\n",
       "    <tr>\n",
       "      <th>1</th>\n",
       "      <td>2</td>\n",
       "      <td>104314100.0</td>\n",
       "    </tr>\n",
       "    <tr>\n",
       "      <th>2</th>\n",
       "      <td>3</td>\n",
       "      <td>111015300.0</td>\n",
       "    </tr>\n",
       "    <tr>\n",
       "      <th>3</th>\n",
       "      <td>4</td>\n",
       "      <td>122255100.0</td>\n",
       "    </tr>\n",
       "    <tr>\n",
       "      <th>4</th>\n",
       "      <td>5</td>\n",
       "      <td>110561000.0</td>\n",
       "    </tr>\n",
       "  </tbody>\n",
       "</table>\n",
       "</div>"
      ],
      "text/plain": [
       "   월        주문 금액\n",
       "0  1  114211900.0\n",
       "1  2  104314100.0\n",
       "2  3  111015300.0\n",
       "3  4  122255100.0\n",
       "4  5  110561000.0"
      ]
     },
     "execution_count": 12,
     "metadata": {},
     "output_type": "execute_result"
    }
   ],
   "source": [
    "grouped_df_by_month = merged_df.groupby(['월'], as_index = False)['주문 금액'].sum()\n",
    "grouped_df_by_month_and_product = merged_df.groupby(['월', '품명'], as_index = False)['주문 금액'].sum()\n",
    "grouped_df_by_month.head()"
   ]
  },
  {
   "cell_type": "code",
   "execution_count": 20,
   "metadata": {},
   "outputs": [
    {
     "data": {
      "text/plain": [
       "<matplotlib.legend.Legend at 0x25824305978>"
      ]
     },
     "execution_count": 20,
     "metadata": {},
     "output_type": "execute_result"
    },
    {
     "data": {
      "image/png": "[encoded data removed]",
      "text/plain": [
       "<Figure size 576x720 with 1 Axes>"
      ]
     },
     "metadata": {
      "needs_background": "light"
     },
     "output_type": "display_data"
    }
   ],
   "source": [
    "plt.title(\"월별 매출 추이\")\n",
    "plt.plot(grouped_df_by_month['월'],\n",
    "         grouped_df_by_month['주문 금액'],\n",
    "         label = \"주문 금액 합계\")\n",
    "\n",
    "for product in grouped_df_by_month_and_product['품명'].unique():\n",
    "    plt.plot(grouped_df_by_month_and_product['월'].unique(), # 월의 개수가 12 * 품목 개수라는 것에 주의\n",
    "             grouped_df_by_month_and_product.loc[grouped_df_by_month_and_product['품명'] == product]['주문 금액'], # 마스킹 검색            \n",
    "             label = product)\n",
    "\n",
    "plt.legend(loc = 'upper right',fontsize='x-small')"
   ]
  },
  {
   "cell_type": "code",
   "execution_count": 21,
   "metadata": {},
   "outputs": [
    {
     "data": {
      "text/plain": [
       "<matplotlib.legend.Legend at 0x2582474ac88>"
      ]
     },
     "execution_count": 21,
     "metadata": {},
     "output_type": "execute_result"
    },
    {
     "data": {
      "image/png": "[encoded data removed]",
      "text/plain": [
       "<Figure size 576x720 with 1 Axes>"
      ]
     },
     "metadata": {
      "needs_background": "light"
     },
     "output_type": "display_data"
    }
   ],
   "source": [
    "for product in grouped_df_by_month_and_product['품명'].unique():\n",
    "    plt.plot(grouped_df_by_month_and_product['월'].unique(), # 월의 개수가 12 * 품목 개수라는 것에 주의\n",
    "             grouped_df_by_month_and_product.loc[grouped_df_by_month_and_product['품명'] == product]['주문 금액'], # 마스킹 검색            \n",
    "             label = product)\n",
    "\n",
    "plt.legend(loc = 'upper right',fontsize='x-small')"
   ]
  },
  {
   "cell_type": "code",
   "execution_count": 22,
   "metadata": {},
   "outputs": [
    {
     "data": {
      "text/plain": [
       "<BarContainer object of 6 artists>"
      ]
     },
     "execution_count": 22,
     "metadata": {},
     "output_type": "execute_result"
    },
    {
     "data": {
      "image/png": "[encoded data removed]",
      "text/plain": [
       "<Figure size 576x432 with 1 Axes>"
      ]
     },
     "metadata": {
      "needs_background": "light"
     },
     "output_type": "display_data"
    }
   ],
   "source": [
    "plt.rcParams[\"figure.figsize\"] = (8, 6)\n",
    "\n",
    "# 제품별 판매량 통계\n",
    "grouped_df_by_product = merged_df.groupby('품명', as_index = False)['수량'].sum()\n",
    "plt.title(\"제품별 판매량 합계\")\n",
    "plt.bar(grouped_df_by_product['품명'], grouped_df_by_product['수량'])"
   ]
  },
  {
   "cell_type": "code",
   "execution_count": 23,
   "metadata": {},
   "outputs": [
    {
     "data": {
      "text/html": [
       "<div>\n",
       "<style scoped>\n",
       "    .dataframe tbody tr th:only-of-type {\n",
       "        vertical-align: middle;\n",
       "    }\n",
       "\n",
       "    .dataframe tbody tr th {\n",
       "        vertical-align: top;\n",
       "    }\n",
       "\n",
       "    .dataframe thead th {\n",
       "        text-align: right;\n",
       "    }\n",
       "</style>\n",
       "<table border=\"1\" class=\"dataframe\">\n",
       "  <thead>\n",
       "    <tr style=\"text-align: right;\">\n",
       "      <th>결제 수단</th>\n",
       "      <th>무통장입금</th>\n",
       "      <th>신용카드</th>\n",
       "      <th>인터넷뱅킹</th>\n",
       "      <th>휴대폰결제</th>\n",
       "    </tr>\n",
       "    <tr>\n",
       "      <th>품명</th>\n",
       "      <th></th>\n",
       "      <th></th>\n",
       "      <th></th>\n",
       "      <th></th>\n",
       "    </tr>\n",
       "  </thead>\n",
       "  <tbody>\n",
       "    <tr>\n",
       "      <th>제품A</th>\n",
       "      <td>119044.444444</td>\n",
       "      <td>130730.769231</td>\n",
       "      <td>118383.783784</td>\n",
       "      <td>130149.532710</td>\n",
       "    </tr>\n",
       "    <tr>\n",
       "      <th>제품B</th>\n",
       "      <td>31396.678967</td>\n",
       "      <td>30974.603175</td>\n",
       "      <td>31184.294872</td>\n",
       "      <td>30356.589147</td>\n",
       "    </tr>\n",
       "    <tr>\n",
       "      <th>제품C</th>\n",
       "      <td>58494.791667</td>\n",
       "      <td>59329.613095</td>\n",
       "      <td>60252.252252</td>\n",
       "      <td>62119.289340</td>\n",
       "    </tr>\n",
       "    <tr>\n",
       "      <th>제품D</th>\n",
       "      <td>49949.734513</td>\n",
       "      <td>48474.183351</td>\n",
       "      <td>48494.623656</td>\n",
       "      <td>49720.000000</td>\n",
       "    </tr>\n",
       "    <tr>\n",
       "      <th>제품E</th>\n",
       "      <td>188229.050279</td>\n",
       "      <td>184311.897106</td>\n",
       "      <td>186773.607748</td>\n",
       "      <td>200012.195122</td>\n",
       "    </tr>\n",
       "    <tr>\n",
       "      <th>제품F</th>\n",
       "      <td>93805.555556</td>\n",
       "      <td>90812.500000</td>\n",
       "      <td>92334.296724</td>\n",
       "      <td>91058.823529</td>\n",
       "    </tr>\n",
       "  </tbody>\n",
       "</table>\n",
       "</div>"
      ],
      "text/plain": [
       "결제 수단          무통장입금           신용카드          인터넷뱅킹          휴대폰결제\n",
       "품명                                                               \n",
       "제품A    119044.444444  130730.769231  118383.783784  130149.532710\n",
       "제품B     31396.678967   30974.603175   31184.294872   30356.589147\n",
       "제품C     58494.791667   59329.613095   60252.252252   62119.289340\n",
       "제품D     49949.734513   48474.183351   48494.623656   49720.000000\n",
       "제품E    188229.050279  184311.897106  186773.607748  200012.195122\n",
       "제품F     93805.555556   90812.500000   92334.296724   91058.823529"
      ]
     },
     "execution_count": 23,
     "metadata": {},
     "output_type": "execute_result"
    }
   ],
   "source": [
    "pivot_df = pd.pivot_table(merged_df, index = '품명', columns = '결제 수단', values = '주문 금액')\n",
    "pivot_df"
   ]
  },
  {
   "cell_type": "code",
   "execution_count": 25,
   "metadata": {},
   "outputs": [
    {
     "data": {
      "text/plain": [
       "<matplotlib.colorbar.Colorbar at 0x25824b72898>"
      ]
     },
     "execution_count": 25,
     "metadata": {},
     "output_type": "execute_result"
    },
    {
     "data": {
      "image/png": "[encoded data removed]",
      "text/plain": [
       "<Figure size 720x720 with 2 Axes>"
      ]
     },
     "metadata": {
      "needs_background": "light"
     },
     "output_type": "display_data"
    }
   ],
   "source": [
    "plt.rcParams[\"figure.figsize\"] = (10, 10)\n",
    "\n",
    "import numpy as np\n",
    "plt.xlabel('결제 수단')\n",
    "plt.ylabel('품명')\n",
    "\n",
    "plt.xticks(np.arange(0.5, len(pivot_df.columns) ), pivot_df.columns)\n",
    "plt.yticks(np.arange(0.5, len(pivot_df.index) ), pivot_df.index)\n",
    "\n",
    "plt.pcolor(pivot_df, edgecolors = 'black', cmap = plt.cm.Reds)\n",
    "plt.colorbar()"
   ]
  },
  {
   "cell_type": "code",
   "execution_count": 26,
   "metadata": {},
   "outputs": [
    {
     "data": {
      "text/html": [
       "<div>\n",
       "<style scoped>\n",
       "    .dataframe tbody tr th:only-of-type {\n",
       "        vertical-align: middle;\n",
       "    }\n",
       "\n",
       "    .dataframe tbody tr th {\n",
       "        vertical-align: top;\n",
       "    }\n",
       "\n",
       "    .dataframe thead th {\n",
       "        text-align: right;\n",
       "    }\n",
       "</style>\n",
       "<table border=\"1\" class=\"dataframe\">\n",
       "  <thead>\n",
       "    <tr style=\"text-align: right;\">\n",
       "      <th></th>\n",
       "      <th>sum</th>\n",
       "      <th>count</th>\n",
       "    </tr>\n",
       "    <tr>\n",
       "      <th>주문인 ID</th>\n",
       "      <th></th>\n",
       "      <th></th>\n",
       "    </tr>\n",
       "  </thead>\n",
       "  <tbody>\n",
       "    <tr>\n",
       "      <th>C-0</th>\n",
       "      <td>1822700.0</td>\n",
       "      <td>34</td>\n",
       "    </tr>\n",
       "    <tr>\n",
       "      <th>C-1</th>\n",
       "      <td>2779700.0</td>\n",
       "      <td>36</td>\n",
       "    </tr>\n",
       "    <tr>\n",
       "      <th>C-10</th>\n",
       "      <td>2774200.0</td>\n",
       "      <td>34</td>\n",
       "    </tr>\n",
       "    <tr>\n",
       "      <th>C-100</th>\n",
       "      <td>3950100.0</td>\n",
       "      <td>46</td>\n",
       "    </tr>\n",
       "    <tr>\n",
       "      <th>C-101</th>\n",
       "      <td>2922700.0</td>\n",
       "      <td>32</td>\n",
       "    </tr>\n",
       "  </tbody>\n",
       "</table>\n",
       "</div>"
      ],
      "text/plain": [
       "              sum  count\n",
       "주문인 ID                  \n",
       "C-0     1822700.0     34\n",
       "C-1     2779700.0     36\n",
       "C-10    2774200.0     34\n",
       "C-100   3950100.0     46\n",
       "C-101   2922700.0     32"
      ]
     },
     "execution_count": 26,
     "metadata": {},
     "output_type": "execute_result"
    }
   ],
   "source": [
    "# 주문 금액 합계 기준 상위 10% 고객 찾기\n",
    "grouped_df_by_customer = merged_df.groupby('주문인 ID')['주문 금액'].agg(['sum', 'count'])\n",
    "grouped_df_by_customer.head()"
   ]
  },
  {
   "cell_type": "code",
   "execution_count": 27,
   "metadata": {},
   "outputs": [
    {
     "data": {
      "text/html": [
       "<div>\n",
       "<style scoped>\n",
       "    .dataframe tbody tr th:only-of-type {\n",
       "        vertical-align: middle;\n",
       "    }\n",
       "\n",
       "    .dataframe tbody tr th {\n",
       "        vertical-align: top;\n",
       "    }\n",
       "\n",
       "    .dataframe thead th {\n",
       "        text-align: right;\n",
       "    }\n",
       "</style>\n",
       "<table border=\"1\" class=\"dataframe\">\n",
       "  <thead>\n",
       "    <tr style=\"text-align: right;\">\n",
       "      <th></th>\n",
       "      <th>sum</th>\n",
       "      <th>count</th>\n",
       "    </tr>\n",
       "    <tr>\n",
       "      <th>주문인 ID</th>\n",
       "      <th></th>\n",
       "      <th></th>\n",
       "    </tr>\n",
       "  </thead>\n",
       "  <tbody>\n",
       "    <tr>\n",
       "      <th>C-450</th>\n",
       "      <td>4759700.0</td>\n",
       "      <td>51</td>\n",
       "    </tr>\n",
       "    <tr>\n",
       "      <th>C-288</th>\n",
       "      <td>4640900.0</td>\n",
       "      <td>50</td>\n",
       "    </tr>\n",
       "    <tr>\n",
       "      <th>C-320</th>\n",
       "      <td>4313100.0</td>\n",
       "      <td>63</td>\n",
       "    </tr>\n",
       "    <tr>\n",
       "      <th>C-106</th>\n",
       "      <td>4276800.0</td>\n",
       "      <td>46</td>\n",
       "    </tr>\n",
       "    <tr>\n",
       "      <th>C-189</th>\n",
       "      <td>4250400.0</td>\n",
       "      <td>49</td>\n",
       "    </tr>\n",
       "    <tr>\n",
       "      <th>C-389</th>\n",
       "      <td>4171200.0</td>\n",
       "      <td>47</td>\n",
       "    </tr>\n",
       "    <tr>\n",
       "      <th>C-475</th>\n",
       "      <td>4012800.0</td>\n",
       "      <td>46</td>\n",
       "    </tr>\n",
       "    <tr>\n",
       "      <th>C-439</th>\n",
       "      <td>3972100.0</td>\n",
       "      <td>50</td>\n",
       "    </tr>\n",
       "    <tr>\n",
       "      <th>C-100</th>\n",
       "      <td>3950100.0</td>\n",
       "      <td>46</td>\n",
       "    </tr>\n",
       "    <tr>\n",
       "      <th>C-317</th>\n",
       "      <td>3891800.0</td>\n",
       "      <td>48</td>\n",
       "    </tr>\n",
       "  </tbody>\n",
       "</table>\n",
       "</div>"
      ],
      "text/plain": [
       "              sum  count\n",
       "주문인 ID                  \n",
       "C-450   4759700.0     51\n",
       "C-288   4640900.0     50\n",
       "C-320   4313100.0     63\n",
       "C-106   4276800.0     46\n",
       "C-189   4250400.0     49\n",
       "C-389   4171200.0     47\n",
       "C-475   4012800.0     46\n",
       "C-439   3972100.0     50\n",
       "C-100   3950100.0     46\n",
       "C-317   3891800.0     48"
      ]
     },
     "execution_count": 27,
     "metadata": {},
     "output_type": "execute_result"
    }
   ],
   "source": [
    "threshold_1 = grouped_df_by_customer['sum'].quantile(0.9) # 구매 금액 합계 기준 상위 10%에 속하기 위한 기준\n",
    "threshold_2 = grouped_df_by_customer['count'].quantile(0.9) # 구매 빈도 기준 상위 10%에 속하기 위한 기준\n",
    "\n",
    "cond1 = grouped_df_by_customer['sum'] >= threshold_1 \n",
    "cond2 = grouped_df_by_customer['count'] >= threshold_2\n",
    "\n",
    "grouped_df_by_customer.loc[cond1 & cond2].sort_values(by = ['sum', 'count'], ascending = False).head(10)"
   ]
  },
  {
   "cell_type": "code",
   "execution_count": null,
   "metadata": {},
   "outputs": [],
   "source": []
  }
 ],
 "metadata": {
  "kernelspec": {
   "display_name": "Python [conda env:py37] *",
   "language": "python",
   "name": "conda-env-py37-py"
  },
  "language_info": {
   "codemirror_mode": {
    "name": "ipython",
    "version": 3
   },
   "file_extension": ".py",
   "mimetype": "text/x-python",
   "name": "python",
   "nbconvert_exporter": "python",
   "pygments_lexer": "ipython3",
   "version": "3.6.9"
  }
 },
 "nbformat": 4,
 "nbformat_minor": 2
}
