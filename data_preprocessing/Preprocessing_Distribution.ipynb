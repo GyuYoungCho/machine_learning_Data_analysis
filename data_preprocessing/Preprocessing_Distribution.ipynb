{
 "cells": [
  {
   "cell_type": "code",
   "execution_count": 4,
   "metadata": {},
   "outputs": [],
   "source": [
    "import pandas as pd\n",
    "import os\n",
    "os.chdir(r\"C:\\Users\\Gyu\\Desktop\\mywork\\FastOnline\\5. 머신러닝 모델의 성능 향상을 위한 전처리\\데이터\")"
   ]
  },
  {
   "cell_type": "markdown",
   "metadata": {},
   "source": [
    "### 변수 분포\n",
    "특징과 라벨 간 비선형 관계가 존재한다면 적절한 전처리를 통해 모델 성능을 높일 수 있음.\n",
    "\n",
    "가장 이상적인 방안은 그래프를 통해 적절한 특징 변환 수행\n",
    "\n",
    "\n",
    "#### 이상치 제거\n",
    "1. IQR 규칙"
   ]
  },
  {
   "cell_type": "code",
   "execution_count": 5,
   "metadata": {},
   "outputs": [
    {
     "data": {
      "text/plain": [
       "(160, 8)"
      ]
     },
     "execution_count": 5,
     "metadata": {},
     "output_type": "execute_result"
    }
   ],
   "source": [
    "df = pd.read_csv(\"glass.csv\")\n",
    "X = df.drop(['Glass_type'], axis = 1)\n",
    "Y = df['Glass_type']\n",
    "\n",
    "from sklearn.model_selection import train_test_split\n",
    "Train_X, Test_X, Train_Y, Test_Y = train_test_split(X, Y)\n",
    "Train_X.shape"
   ]
  },
  {
   "cell_type": "code",
   "execution_count": 6,
   "metadata": {},
   "outputs": [
    {
     "data": {
      "text/html": [
       "<div>\n",
       "<style scoped>\n",
       "    .dataframe tbody tr th:only-of-type {\n",
       "        vertical-align: middle;\n",
       "    }\n",
       "\n",
       "    .dataframe tbody tr th {\n",
       "        vertical-align: top;\n",
       "    }\n",
       "\n",
       "    .dataframe thead th {\n",
       "        text-align: right;\n",
       "    }\n",
       "</style>\n",
       "<table border=\"1\" class=\"dataframe\">\n",
       "  <thead>\n",
       "    <tr style=\"text-align: right;\">\n",
       "      <th></th>\n",
       "      <th>RI</th>\n",
       "      <th>Na</th>\n",
       "      <th>Mg</th>\n",
       "      <th>Al</th>\n",
       "      <th>Si</th>\n",
       "      <th>K</th>\n",
       "      <th>Ca</th>\n",
       "      <th>Fe</th>\n",
       "    </tr>\n",
       "  </thead>\n",
       "  <tbody>\n",
       "    <tr>\n",
       "      <th>83</th>\n",
       "      <td>True</td>\n",
       "      <td>False</td>\n",
       "      <td>True</td>\n",
       "      <td>True</td>\n",
       "      <td>True</td>\n",
       "      <td>True</td>\n",
       "      <td>False</td>\n",
       "      <td>True</td>\n",
       "    </tr>\n",
       "    <tr>\n",
       "      <th>72</th>\n",
       "      <td>True</td>\n",
       "      <td>True</td>\n",
       "      <td>True</td>\n",
       "      <td>True</td>\n",
       "      <td>True</td>\n",
       "      <td>True</td>\n",
       "      <td>True</td>\n",
       "      <td>True</td>\n",
       "    </tr>\n",
       "    <tr>\n",
       "      <th>196</th>\n",
       "      <td>True</td>\n",
       "      <td>True</td>\n",
       "      <td>True</td>\n",
       "      <td>True</td>\n",
       "      <td>True</td>\n",
       "      <td>True</td>\n",
       "      <td>True</td>\n",
       "      <td>True</td>\n",
       "    </tr>\n",
       "    <tr>\n",
       "      <th>164</th>\n",
       "      <td>True</td>\n",
       "      <td>True</td>\n",
       "      <td>True</td>\n",
       "      <td>True</td>\n",
       "      <td>True</td>\n",
       "      <td>True</td>\n",
       "      <td>True</td>\n",
       "      <td>True</td>\n",
       "    </tr>\n",
       "    <tr>\n",
       "      <th>146</th>\n",
       "      <td>True</td>\n",
       "      <td>True</td>\n",
       "      <td>True</td>\n",
       "      <td>True</td>\n",
       "      <td>True</td>\n",
       "      <td>True</td>\n",
       "      <td>True</td>\n",
       "      <td>True</td>\n",
       "    </tr>\n",
       "    <tr>\n",
       "      <th>...</th>\n",
       "      <td>...</td>\n",
       "      <td>...</td>\n",
       "      <td>...</td>\n",
       "      <td>...</td>\n",
       "      <td>...</td>\n",
       "      <td>...</td>\n",
       "      <td>...</td>\n",
       "      <td>...</td>\n",
       "    </tr>\n",
       "    <tr>\n",
       "      <th>185</th>\n",
       "      <td>True</td>\n",
       "      <td>True</td>\n",
       "      <td>True</td>\n",
       "      <td>True</td>\n",
       "      <td>True</td>\n",
       "      <td>True</td>\n",
       "      <td>True</td>\n",
       "      <td>True</td>\n",
       "    </tr>\n",
       "    <tr>\n",
       "      <th>34</th>\n",
       "      <td>True</td>\n",
       "      <td>True</td>\n",
       "      <td>True</td>\n",
       "      <td>True</td>\n",
       "      <td>True</td>\n",
       "      <td>True</td>\n",
       "      <td>True</td>\n",
       "      <td>True</td>\n",
       "    </tr>\n",
       "    <tr>\n",
       "      <th>37</th>\n",
       "      <td>True</td>\n",
       "      <td>True</td>\n",
       "      <td>True</td>\n",
       "      <td>True</td>\n",
       "      <td>True</td>\n",
       "      <td>True</td>\n",
       "      <td>True</td>\n",
       "      <td>True</td>\n",
       "    </tr>\n",
       "    <tr>\n",
       "      <th>131</th>\n",
       "      <td>True</td>\n",
       "      <td>True</td>\n",
       "      <td>True</td>\n",
       "      <td>True</td>\n",
       "      <td>True</td>\n",
       "      <td>True</td>\n",
       "      <td>True</td>\n",
       "      <td>False</td>\n",
       "    </tr>\n",
       "    <tr>\n",
       "      <th>39</th>\n",
       "      <td>True</td>\n",
       "      <td>True</td>\n",
       "      <td>True</td>\n",
       "      <td>True</td>\n",
       "      <td>True</td>\n",
       "      <td>True</td>\n",
       "      <td>True</td>\n",
       "      <td>True</td>\n",
       "    </tr>\n",
       "  </tbody>\n",
       "</table>\n",
       "<p>160 rows × 8 columns</p>\n",
       "</div>"
      ],
      "text/plain": [
       "       RI     Na    Mg    Al    Si     K     Ca     Fe\n",
       "83   True  False  True  True  True  True  False   True\n",
       "72   True   True  True  True  True  True   True   True\n",
       "196  True   True  True  True  True  True   True   True\n",
       "164  True   True  True  True  True  True   True   True\n",
       "146  True   True  True  True  True  True   True   True\n",
       "..    ...    ...   ...   ...   ...   ...    ...    ...\n",
       "185  True   True  True  True  True  True   True   True\n",
       "34   True   True  True  True  True  True   True   True\n",
       "37   True   True  True  True  True  True   True   True\n",
       "131  True   True  True  True  True  True   True  False\n",
       "39   True   True  True  True  True  True   True   True\n",
       "\n",
       "[160 rows x 8 columns]"
      ]
     },
     "execution_count": 6,
     "metadata": {},
     "output_type": "execute_result"
    }
   ],
   "source": [
    "import numpy as np\n",
    "def IQR_rule(val_list): # 한 특징에 포함된 값 (열 벡터)\n",
    "    # IQR 계산    \n",
    "    Q1 = np.quantile(val_list, 0.25)\n",
    "    Q3 = np.quantile(val_list, 0.75)\n",
    "    IQR = Q3 - Q1\n",
    "    \n",
    "    # IQR rule을 위배하지 않는 bool list 계산 (True: 이상치 X, False: 이상치 O)\n",
    "    not_outlier_condition = (Q3 + 1.5 * IQR > val_list) & (Q1 - 1.5 * IQR < val_list)\n",
    "    return not_outlier_condition\n",
    "\n",
    "conditions = Train_X.apply(IQR_rule) # apply를 이용하여 모든 컬럼에 IQR rule 함수 적용\n",
    "conditions"
   ]
  },
  {
   "cell_type": "code",
   "execution_count": 7,
   "metadata": {},
   "outputs": [
    {
     "data": {
      "text/plain": [
       "(118, 8)"
      ]
     },
     "execution_count": 7,
     "metadata": {},
     "output_type": "execute_result"
    }
   ],
   "source": [
    "total_condition = conditions.sum(axis = 1) == len(Train_X.columns) # 하나라도 IQR 규칙을 위반하는 요소를 갖는 레코드를 제거하기 위한 규칙\n",
    "Train_X = Train_X.loc[total_condition] # 이상치 제거\n",
    "Train_X.shape"
   ]
  },
  {
   "cell_type": "markdown",
   "metadata": {},
   "source": [
    "#### DBSCAN을 활용한 처리\n",
    "군집에 속하지 않은 샘플을 이상치라고 간주함, 파라미터 튜닝이 쉽지 않음.\n",
    "\n",
    "- eps : 이웃이라 판단하는 반경\n",
    "- min_samples : 중심점이라 판단하기 위해 eps 내에 들어와야 하는 최소 샘플 수\n",
    "- metric : 거리 척도\n",
    "\n",
    "label에서 -1이 나오면 이상치"
   ]
  },
  {
   "cell_type": "code",
   "execution_count": 8,
   "metadata": {},
   "outputs": [],
   "source": [
    "Train_X, Test_X, Train_Y, Test_Y = train_test_split(X, Y)"
   ]
  },
  {
   "cell_type": "code",
   "execution_count": 9,
   "metadata": {},
   "outputs": [
    {
     "data": {
      "text/plain": [
       "0.6647334426608053"
      ]
     },
     "execution_count": 9,
     "metadata": {},
     "output_type": "execute_result"
    }
   ],
   "source": [
    "from scipy.spatial.distance import cdist\n",
    "from sklearn.cluster import DBSCAN\n",
    "DM = cdist(Train_X, Train_X) # 거리 행렬 => DBSCAN의 파라미터를 설정하기 위함\n",
    "np.quantile(DM, 0.1) # 샘플 간 거리의 10% quantile이 0.6622정도임을 확인"
   ]
  },
  {
   "cell_type": "code",
   "execution_count": 10,
   "metadata": {},
   "outputs": [
    {
     "name": "stdout",
     "output_type": "stream",
     "text": [
      "34\n"
     ]
    }
   ],
   "source": [
    "cluster_model = DBSCAN(eps = 0.67, min_samples = 3).fit(Train_X)\n",
    "print(sum(cluster_model.labels_ == -1)) \n",
    "# 34개가 이상치로 판단 => 이정도면 너무 많은 양이 아닌가?? => 파라미터 조정"
   ]
  },
  {
   "cell_type": "code",
   "execution_count": 11,
   "metadata": {},
   "outputs": [
    {
     "name": "stdout",
     "output_type": "stream",
     "text": [
      "9\n"
     ]
    }
   ],
   "source": [
    "cluster_model = DBSCAN(eps = 2, min_samples = 3).fit(Train_X)\n",
    "print(sum(cluster_model.labels_ == -1)) # 9개 정도면 괜찮은 양이라고 판단하여 삭제 수행"
   ]
  },
  {
   "cell_type": "markdown",
   "metadata": {},
   "source": [
    "### 특징 간 상관성 제거\n",
    "- 회귀, svm 등에서 wx+b 선형식이 모델에 포함되는 경우, 상관성이 높으면 parameter 추정이 어려움.(추정할 때마다 결과가 달라짐)\n",
    "- 트리 모델의 경우도 예측 성능에 영향을 받지 않지만 설명력에 크게 영향을 받을 수 있음.\n",
    "\n",
    "<br>\n",
    "\n",
    "#### 해결 방법\n",
    "1. VIF\n",
    "\n",
    "    - 한 특징을 라벨로 간주하고 해당 라벨을 예측하는데 다른 특징을 사용한 회귀모델이 높은 R-squared를 보이는 경우 상관이 있다고 판단.\n",
    "    - 높은 순서대로 제거하거나 10 이상일 때 주로 삭제\n",
    "    \n",
    "2. 주성분 분석\n",
    "    - 특징이 서로 직교하도록 만듬\n",
    "    - 분산의 대부분을 설명하는 특징들만 사용하여 차원 축소 기능\n",
    "    "
   ]
  },
  {
   "cell_type": "code",
   "execution_count": 21,
   "metadata": {},
   "outputs": [],
   "source": [
    "df = pd.read_csv(\"abalone.csv\")\n",
    "X = df.drop(['Age'], axis = 1)\n",
    "Y = df['Age']\n",
    "Train_X, Test_X, Train_Y, Test_Y = train_test_split(X, Y)"
   ]
  },
  {
   "cell_type": "code",
   "execution_count": 13,
   "metadata": {},
   "outputs": [
    {
     "data": {
      "text/html": [
       "<div>\n",
       "<style scoped>\n",
       "    .dataframe tbody tr th:only-of-type {\n",
       "        vertical-align: middle;\n",
       "    }\n",
       "\n",
       "    .dataframe tbody tr th {\n",
       "        vertical-align: top;\n",
       "    }\n",
       "\n",
       "    .dataframe thead th {\n",
       "        text-align: right;\n",
       "    }\n",
       "</style>\n",
       "<table border=\"1\" class=\"dataframe\">\n",
       "  <thead>\n",
       "    <tr style=\"text-align: right;\">\n",
       "      <th></th>\n",
       "      <th>Length</th>\n",
       "      <th>Diameter</th>\n",
       "      <th>Height</th>\n",
       "      <th>Wholeweight</th>\n",
       "      <th>Shuckedweight</th>\n",
       "      <th>Visceraweight</th>\n",
       "      <th>Shellweight</th>\n",
       "    </tr>\n",
       "  </thead>\n",
       "  <tbody>\n",
       "    <tr>\n",
       "      <th>Length</th>\n",
       "      <td>1.000000</td>\n",
       "      <td>0.986318</td>\n",
       "      <td>0.899562</td>\n",
       "      <td>0.924378</td>\n",
       "      <td>0.895568</td>\n",
       "      <td>0.901918</td>\n",
       "      <td>0.896407</td>\n",
       "    </tr>\n",
       "    <tr>\n",
       "      <th>Diameter</th>\n",
       "      <td>0.986318</td>\n",
       "      <td>1.000000</td>\n",
       "      <td>0.907250</td>\n",
       "      <td>0.924476</td>\n",
       "      <td>0.890892</td>\n",
       "      <td>0.897907</td>\n",
       "      <td>0.904024</td>\n",
       "    </tr>\n",
       "    <tr>\n",
       "      <th>Height</th>\n",
       "      <td>0.899562</td>\n",
       "      <td>0.907250</td>\n",
       "      <td>1.000000</td>\n",
       "      <td>0.886326</td>\n",
       "      <td>0.833720</td>\n",
       "      <td>0.863684</td>\n",
       "      <td>0.887594</td>\n",
       "    </tr>\n",
       "    <tr>\n",
       "      <th>Wholeweight</th>\n",
       "      <td>0.924378</td>\n",
       "      <td>0.924476</td>\n",
       "      <td>0.886326</td>\n",
       "      <td>1.000000</td>\n",
       "      <td>0.968404</td>\n",
       "      <td>0.965470</td>\n",
       "      <td>0.955370</td>\n",
       "    </tr>\n",
       "    <tr>\n",
       "      <th>Shuckedweight</th>\n",
       "      <td>0.895568</td>\n",
       "      <td>0.890892</td>\n",
       "      <td>0.833720</td>\n",
       "      <td>0.968404</td>\n",
       "      <td>1.000000</td>\n",
       "      <td>0.929868</td>\n",
       "      <td>0.880252</td>\n",
       "    </tr>\n",
       "    <tr>\n",
       "      <th>Visceraweight</th>\n",
       "      <td>0.901918</td>\n",
       "      <td>0.897907</td>\n",
       "      <td>0.863684</td>\n",
       "      <td>0.965470</td>\n",
       "      <td>0.929868</td>\n",
       "      <td>1.000000</td>\n",
       "      <td>0.905590</td>\n",
       "    </tr>\n",
       "    <tr>\n",
       "      <th>Shellweight</th>\n",
       "      <td>0.896407</td>\n",
       "      <td>0.904024</td>\n",
       "      <td>0.887594</td>\n",
       "      <td>0.955370</td>\n",
       "      <td>0.880252</td>\n",
       "      <td>0.905590</td>\n",
       "      <td>1.000000</td>\n",
       "    </tr>\n",
       "  </tbody>\n",
       "</table>\n",
       "</div>"
      ],
      "text/plain": [
       "                 Length  Diameter    Height  Wholeweight  Shuckedweight  \\\n",
       "Length         1.000000  0.986318  0.899562     0.924378       0.895568   \n",
       "Diameter       0.986318  1.000000  0.907250     0.924476       0.890892   \n",
       "Height         0.899562  0.907250  1.000000     0.886326       0.833720   \n",
       "Wholeweight    0.924378  0.924476  0.886326     1.000000       0.968404   \n",
       "Shuckedweight  0.895568  0.890892  0.833720     0.968404       1.000000   \n",
       "Visceraweight  0.901918  0.897907  0.863684     0.965470       0.929868   \n",
       "Shellweight    0.896407  0.904024  0.887594     0.955370       0.880252   \n",
       "\n",
       "               Visceraweight  Shellweight  \n",
       "Length              0.901918     0.896407  \n",
       "Diameter            0.897907     0.904024  \n",
       "Height              0.863684     0.887594  \n",
       "Wholeweight         0.965470     0.955370  \n",
       "Shuckedweight       0.929868     0.880252  \n",
       "Visceraweight       1.000000     0.905590  \n",
       "Shellweight         0.905590     1.000000  "
      ]
     },
     "execution_count": 13,
     "metadata": {},
     "output_type": "execute_result"
    }
   ],
   "source": [
    "Train_X.corr()"
   ]
  },
  {
   "cell_type": "code",
   "execution_count": 22,
   "metadata": {},
   "outputs": [
    {
     "data": {
      "text/plain": [
       "{'Length': 41.844340162372255,\n",
       " 'Diameter': 42.865128679025815,\n",
       " 'Height': 3.2084546611065634,\n",
       " 'Wholeweight': 106.16626028506063,\n",
       " 'Shuckedweight': 27.807961288270867,\n",
       " 'Visceraweight': 17.120768238797694,\n",
       " 'Shellweight': 21.102383108075458}"
      ]
     },
     "execution_count": 22,
     "metadata": {},
     "output_type": "execute_result"
    }
   ],
   "source": [
    "# VIF 계산\n",
    "from sklearn.linear_model import LinearRegression as LR\n",
    "VIF_dict = dict()\n",
    "for col in Train_X.columns:\n",
    "    model = LR().fit(Train_X.drop([col], axis = 1), Train_X[col])\n",
    "    r2 = model.score(Train_X.drop([col], axis = 1), Train_X[col]) # LinearRegression의 score가 r2 점수임\n",
    "    VIF = 1 / (1 - r2)\n",
    "    VIF_dict[col] = VIF\n",
    "\n",
    "VIF_dict # Height를 제외하곤 VIF가 모두 높으므로, 이러한 상황에서는 사실 PCA를 사용하는 것이 바람직"
   ]
  },
  {
   "cell_type": "code",
   "execution_count": 23,
   "metadata": {},
   "outputs": [
    {
     "name": "stdout",
     "output_type": "stream",
     "text": [
      "1.6141911983653163\n"
     ]
    }
   ],
   "source": [
    "from sklearn.neural_network import MLPRegressor as MLP\n",
    "from sklearn.metrics import mean_absolute_error as MAE\n",
    "\n",
    "# VIF 점수가 30점 미만인 특징만 사용하였을 때 \n",
    "selected_features = [key for key, val in VIF_dict.items() if val < 30] \n",
    "model = MLP(random_state = 2313, max_iter = 500)\n",
    "model.fit(Train_X[selected_features], Train_Y)\n",
    "pred_Y = model.predict(Test_X[selected_features])\n",
    "score = MAE(Test_Y, pred_Y)\n",
    "print(score)"
   ]
  },
  {
   "cell_type": "code",
   "execution_count": 16,
   "metadata": {},
   "outputs": [
    {
     "name": "stdout",
     "output_type": "stream",
     "text": [
      "(3132, 3)\n"
     ]
    }
   ],
   "source": [
    "from sklearn.decomposition import PCA\n",
    "PCA_model = PCA(n_components = 3).fit(Train_X)\n",
    "\n",
    "Train_Z = PCA_model.transform(Train_X)\n",
    "Test_Z = PCA_model.transform(Test_X)\n",
    "\n",
    "print(Train_Z.shape)"
   ]
  },
  {
   "cell_type": "code",
   "execution_count": 17,
   "metadata": {},
   "outputs": [
    {
     "name": "stdout",
     "output_type": "stream",
     "text": [
      "1.4964126426048892\n"
     ]
    }
   ],
   "source": [
    "model = MLP(random_state = 2313, max_iter = 500)\n",
    "model.fit(Train_Z, Train_Y)\n",
    "pred_Y = model.predict(Test_Z)\n",
    "score = MAE(Test_Y, pred_Y)\n",
    "print(score)"
   ]
  },
  {
   "cell_type": "markdown",
   "metadata": {},
   "source": [
    "### 변수 치우침 제거\n",
    "\n",
    "보통 왜도의 절대값이 1.5 이상이면 치우쳤다고 판단함.\n",
    "\n",
    "해결 방안\n",
    "1. log(x-min(x)+1)\n",
    "2. sqrt(x-min(x))"
   ]
  },
  {
   "cell_type": "code",
   "execution_count": 33,
   "metadata": {},
   "outputs": [],
   "source": [
    "df = pd.read_csv(\"Sonar_Mines_Rocks.csv\")\n",
    "X = df.drop('Y', axis = 1)\n",
    "Y = df['Y']\n",
    "Train_X, Test_X, Train_Y, Test_Y = train_test_split(X, Y)"
   ]
  },
  {
   "cell_type": "code",
   "execution_count": 26,
   "metadata": {},
   "outputs": [
    {
     "data": {
      "text/plain": [
       "Band1     1.960073\n",
       "Band2     2.008445\n",
       "Band3     2.650155\n",
       "Band4     3.488549\n",
       "Band5     2.176872\n",
       "Band6     0.986641\n",
       "Band7     0.720030\n",
       "Band8     1.395150\n",
       "Band9     1.526546\n",
       "Band10    1.184597\n",
       "Band11    0.914194\n",
       "Band12    0.416211\n",
       "Band13    0.696595\n",
       "Band14    1.102455\n",
       "Band15    0.840225\n",
       "Band16    0.771143\n",
       "Band17    0.770226\n",
       "Band18    0.624335\n",
       "Band19    0.361360\n",
       "Band20   -0.018053\n",
       "Band21   -0.199418\n",
       "Band22   -0.437606\n",
       "Band23   -0.638094\n",
       "Band24   -0.704402\n",
       "Band25   -0.759193\n",
       "Band26   -0.634451\n",
       "Band27   -0.536620\n",
       "Band28   -0.528471\n",
       "Band29   -0.388967\n",
       "Band30   -0.124225\n",
       "Band31    0.224132\n",
       "Band32    0.220876\n",
       "Band33    0.504556\n",
       "Band34    0.558918\n",
       "Band35    0.596135\n",
       "Band36    0.643940\n",
       "Band37    0.718361\n",
       "Band38    1.070378\n",
       "Band39    0.966044\n",
       "Band40    0.944449\n",
       "Band41    0.950281\n",
       "Band42    0.891004\n",
       "Band43    0.907727\n",
       "Band44    1.269887\n",
       "Band45    1.359363\n",
       "Band46    1.711710\n",
       "Band47    1.747855\n",
       "Band48    1.272086\n",
       "Band49    1.248962\n",
       "Band50    1.795988\n",
       "Band51    3.030499\n",
       "Band52    2.298914\n",
       "Band53    0.866889\n",
       "Band54    0.942549\n",
       "Band55    1.815787\n",
       "Band56    1.821493\n",
       "Band57    1.624498\n",
       "Band58    2.253174\n",
       "Band59    1.390375\n",
       "Band60    2.796459\n",
       "dtype: float64"
      ]
     },
     "execution_count": 26,
     "metadata": {},
     "output_type": "execute_result"
    }
   ],
   "source": [
    "Train_X.skew() # 왜도 확인 "
   ]
  },
  {
   "cell_type": "code",
   "execution_count": 27,
   "metadata": {},
   "outputs": [
    {
     "data": {
      "text/plain": [
       "<AxesSubplot:>"
      ]
     },
     "execution_count": 27,
     "metadata": {},
     "output_type": "execute_result"
    },
    {
     "data": {
      "image/png": "[encoded data removed]",
      "text/plain": [
       "<Figure size 432x288 with 1 Axes>"
      ]
     },
     "metadata": {
      "needs_background": "light"
     },
     "output_type": "display_data"
    }
   ],
   "source": [
    "%matplotlib inline\n",
    "df['Band4'].hist()"
   ]
  },
  {
   "cell_type": "code",
   "execution_count": 34,
   "metadata": {},
   "outputs": [],
   "source": [
    "Train_Y.replace({\"M\":-1, \"R\":1}, inplace = True)\n",
    "Test_Y.replace({\"M\":-1, \"R\":1}, inplace = True)"
   ]
  },
  {
   "cell_type": "code",
   "execution_count": 29,
   "metadata": {},
   "outputs": [
    {
     "name": "stdout",
     "output_type": "stream",
     "text": [
      "0.8333333333333334\n"
     ]
    }
   ],
   "source": [
    "# 원본 데이터로 모델링\n",
    "from sklearn.metrics import f1_score\n",
    "from sklearn.neural_network import MLPClassifier as MLP\n",
    "model = MLP(random_state = 153, max_iter = 1000).fit(Train_X, Train_Y)\n",
    "pred_Y = model.predict(Test_X)\n",
    "score = f1_score(Test_Y, pred_Y)\n",
    "print(score)"
   ]
  },
  {
   "cell_type": "code",
   "execution_count": 35,
   "metadata": {},
   "outputs": [],
   "source": [
    "# 왜도 기반 치우친 변수 제거 \n",
    "import numpy as np\n",
    "biased_variables = Train_X.columns[Train_X.skew().abs() > 1.5] # 왜도의 절대값이 1.5 이상인 컬럼만 가져오기"
   ]
  },
  {
   "cell_type": "code",
   "execution_count": 36,
   "metadata": {},
   "outputs": [
    {
     "name": "stderr",
     "output_type": "stream",
     "text": [
      "C:\\Users\\Gyu\\Anaconda3\\envs\\py37\\lib\\site-packages\\pandas\\core\\frame.py:3062: SettingWithCopyWarning: \n",
      "A value is trying to be set on a copy of a slice from a DataFrame.\n",
      "Try using .loc[row_indexer,col_indexer] = value instead\n",
      "\n",
      "See the caveats in the documentation: https://pandas.pydata.org/pandas-docs/stable/user_guide/indexing.html#returning-a-view-versus-a-copy\n",
      "  self[k1] = value[k2]\n"
     ]
    }
   ],
   "source": [
    "Train_X[biased_variables] = Train_X[biased_variables] - Train_X[biased_variables].min() + 1\n",
    "Train_X[biased_variables] = np.log10(Train_X[biased_variables])"
   ]
  },
  {
   "cell_type": "code",
   "execution_count": 37,
   "metadata": {},
   "outputs": [
    {
     "name": "stdout",
     "output_type": "stream",
     "text": [
      "0.7368421052631579\n"
     ]
    },
    {
     "name": "stderr",
     "output_type": "stream",
     "text": [
      "C:\\Users\\Gyu\\Anaconda3\\envs\\py37\\lib\\site-packages\\pandas\\core\\frame.py:3062: SettingWithCopyWarning: \n",
      "A value is trying to be set on a copy of a slice from a DataFrame.\n",
      "Try using .loc[row_indexer,col_indexer] = value instead\n",
      "\n",
      "See the caveats in the documentation: https://pandas.pydata.org/pandas-docs/stable/user_guide/indexing.html#returning-a-view-versus-a-copy\n",
      "  self[k1] = value[k2]\n"
     ]
    }
   ],
   "source": [
    "# 치우침 제거 후 모델 평가\n",
    "model = MLP(random_state = 153, max_iter = 1000).fit(Train_X, Train_Y)\n",
    "\n",
    "# 테스트도 데이터도 같은 방법으로 전처리를 수행\n",
    "Test_X[biased_variables] = Test_X[biased_variables] - Test_X[biased_variables].min() + 1\n",
    "Test_X[biased_variables] = Test_X[biased_variables].apply(np.log)\n",
    "\n",
    "pred_Y = model.predict(Test_X)\n",
    "score = f1_score(Test_Y, pred_Y)\n",
    "print(score)\n",
    "# 오잉 안좋넹...."
   ]
  },
  {
   "cell_type": "markdown",
   "metadata": {},
   "source": [
    "### 변수 스케일링\n",
    "\n",
    "모델이 스케일의 크고 작음에 많은 영향을 받음. 나이브 베이즈, 의사결정(이진)트리 는 스케일에 영향받지 않음\n",
    "\n",
    "1. Standard : (x-u)/v\n",
    "    - 정규 분포를 가정하는 회귀, 로지스틱 등에 좋음\n",
    "2. MinMax : (x-min(x))/(max(x)-min(x))\n",
    "    - 특정 분포를 가정하지 않는 신경망, kNN에 좋음\n"
   ]
  },
  {
   "cell_type": "code",
   "execution_count": 38,
   "metadata": {},
   "outputs": [
    {
     "data": {
      "text/plain": [
       "Batting_average              0.394\n",
       "On-base_percentage           0.423\n",
       "Runs                       133.000\n",
       "Hits                       215.000\n",
       "Doubles                     49.000\n",
       "Triples                     15.000\n",
       "HomeRuns                    44.000\n",
       "Runs_batted_in             133.000\n",
       "Walks                      138.000\n",
       "Strike-Outs                174.000\n",
       "Stolen_bases                76.000\n",
       "Errors                      31.000\n",
       "Free_agency_eligibility      1.000\n",
       "Free_agent                   1.000\n",
       "Arbitration_eligibility      1.000\n",
       "Arbitration                  1.000\n",
       "dtype: float64"
      ]
     },
     "execution_count": 38,
     "metadata": {},
     "output_type": "execute_result"
    }
   ],
   "source": [
    "df = pd.read_csv(\"baseball.csv\")\n",
    "X = df.drop('Salary', axis = 1)\n",
    "Y = df['Salary']\n",
    "Train_X, Test_X, Train_Y, Test_Y = train_test_split(X, Y)\n",
    "\n",
    "Train_X.max() - Train_X.min()"
   ]
  },
  {
   "cell_type": "code",
   "execution_count": 39,
   "metadata": {},
   "outputs": [
    {
     "name": "stdout",
     "output_type": "stream",
     "text": [
      "616.6658823529411\n"
     ]
    }
   ],
   "source": [
    "# 스케일링 전에 성능 확인\n",
    "from sklearn.neighbors import KNeighborsRegressor as KNN\n",
    "from sklearn.metrics import mean_absolute_error as MAE\n",
    "model = KNN().fit(Train_X, Train_Y)\n",
    "pred_Y = model.predict(Test_X)\n",
    "\n",
    "score = MAE(Test_Y, pred_Y)\n",
    "print(score)"
   ]
  },
  {
   "cell_type": "code",
   "execution_count": 40,
   "metadata": {},
   "outputs": [],
   "source": [
    "# 스케일링 수행\n",
    "from sklearn.preprocessing import MinMaxScaler\n",
    "scaler = MinMaxScaler().fit(Train_X)\n",
    "s_Train_X = scaler.transform(Train_X)\n",
    "s_Test_X = scaler.transform(Test_X)"
   ]
  },
  {
   "cell_type": "code",
   "execution_count": 41,
   "metadata": {},
   "outputs": [
    {
     "name": "stdout",
     "output_type": "stream",
     "text": [
      "433.7905882352941\n"
     ]
    }
   ],
   "source": [
    "model = KNN().fit(s_Train_X, Train_Y)\n",
    "pred_Y = model.predict(s_Test_X)\n",
    "\n",
    "score = MAE(Test_Y, pred_Y)\n",
    "print(score)"
   ]
  },
  {
   "cell_type": "markdown",
   "metadata": {},
   "source": [
    "스케일링을 헤도 개선되지 않으면 변수 자체가 의미없을 수도 있는 등의 이유를 생각!"
   ]
  }
 ],
 "metadata": {
  "kernelspec": {
   "display_name": "Python [conda env:py37] *",
   "language": "python",
   "name": "conda-env-py37-py"
  },
  "language_info": {
   "codemirror_mode": {
    "name": "ipython",
    "version": 3
   },
   "file_extension": ".py",
   "mimetype": "text/x-python",
   "name": "python",
   "nbconvert_exporter": "python",
   "pygments_lexer": "ipython3",
   "version": "3.6.9"
  }
 },
 "nbformat": 4,
 "nbformat_minor": 2
}
