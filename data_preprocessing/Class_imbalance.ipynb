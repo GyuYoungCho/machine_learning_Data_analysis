{
 "cells": [
  {
   "cell_type": "markdown",
   "metadata": {},
   "source": [
    "### 클래스 불균형\n",
    "- 하나의 값에 치우진 데이터로 학습한 모델이 치우진 클래스에 대해 편향되는 문제\n",
    "- 정확도가 높으나 재현율이 매우 낮은 경향이 있음\n",
    "\n",
    "\n",
    "#### 클래스 불균형 탐색\n",
    "1. 불균형 비율 탐색\n",
    "2. knn 활용 : knn은 클래스 불균형 에 매우 민감하므로 진단에 적절(k = 5~11)\n",
    "\n",
    "문제 해결\n",
    "- 소수 클래스에 대한 결정 공간 넓히기\n",
    "\n",
    "- 오버 샘플링 : 데이터가 작을 때 유용\n",
    "- 언더 샘플링 : 데이터가 클 때 유용\n",
    "- 결정 경계에 가까운 샘플을 제거하거나 생성해야 함.\n",
    "- 평가 데이터에 대해서는 샘플링x\n",
    "\n",
    "<br>\n",
    "\n",
    "- 오버 샘플링 : ex) Smote\n",
    "    - k_neighbors를 1,3,5 정도로 설정\n",
    "    - sampling_strategy : 사전 형태로 입력하여 샘플 개수 조정\n",
    "- 언더 샘플링 : ex)NearMiss\n",
    "    - n_neighbors, sampling_strategy\n",
    "    - version : 2로 주로 설정\n",
    "    \n",
    "\n",
    "#### 오버 샘플링"
   ]
  },
  {
   "cell_type": "code",
   "execution_count": 2,
   "metadata": {},
   "outputs": [],
   "source": [
    "import os\n",
    "import pandas as pd\n",
    "os.chdir(r\"C:\\Users\\Gyu\\Desktop\\mywork\\FastOnline\\5. 머신러닝 모델의 성능 향상을 위한 전처리\\데이터\")\n",
    "df = pd.read_csv(\"Secom.csv\")"
   ]
  },
  {
   "cell_type": "code",
   "execution_count": 3,
   "metadata": {},
   "outputs": [
    {
     "data": {
      "text/plain": [
       "-1    1090\n",
       " 1      85\n",
       "Name: Y, dtype: int64"
      ]
     },
     "execution_count": 3,
     "metadata": {},
     "output_type": "execute_result"
    }
   ],
   "source": [
    "from sklearn.model_selection import train_test_split\n",
    "\n",
    "X = df.drop('Y', axis = 1)\n",
    "Y = df['Y']\n",
    "Train_X, Test_X, Train_Y, Test_Y = train_test_split(X, Y)\n",
    "\n",
    "Train_Y.value_counts()"
   ]
  },
  {
   "cell_type": "code",
   "execution_count": 4,
   "metadata": {},
   "outputs": [
    {
     "data": {
      "text/plain": [
       "12.823529411764707"
      ]
     },
     "execution_count": 4,
     "metadata": {},
     "output_type": "execute_result"
    }
   ],
   "source": [
    "# 클래스 불균형 비율 계산\n",
    "Train_Y.value_counts().iloc[0] / Train_Y.value_counts().iloc[-1]"
   ]
  },
  {
   "cell_type": "code",
   "execution_count": 5,
   "metadata": {},
   "outputs": [
    {
     "name": "stdout",
     "output_type": "stream",
     "text": [
      "0.0\n",
      "0.951530612244898\n"
     ]
    }
   ],
   "source": [
    "# kNN을 사용한 클래스 불균형 테스트\n",
    "from sklearn.neighbors import KNeighborsClassifier as KNN\n",
    "from sklearn.metrics import *\n",
    "kNN_model = KNN(n_neighbors = 11).fit(Train_X, Train_Y)\n",
    "pred_Y = kNN_model.predict(Test_X)\n",
    "print(recall_score(Test_Y, pred_Y))\n",
    "print(accuracy_score(Test_Y, pred_Y))\n",
    "\n",
    "# 재현율이 0%로 불균형이 심각한 수준이라 보임"
   ]
  },
  {
   "cell_type": "code",
   "execution_count": 8,
   "metadata": {},
   "outputs": [
    {
     "name": "stderr",
     "output_type": "stream",
     "text": [
      "C:\\Users\\Gyu\\AppData\\Roaming\\Python\\Python36\\site-packages\\sklearn\\utils\\deprecation.py:86: FutureWarning: Function safe_indexing is deprecated; safe_indexing is deprecated in version 0.22 and will be removed in version 0.24.\n",
      "  warnings.warn(msg, category=FutureWarning)\n"
     ]
    }
   ],
   "source": [
    "from imblearn.over_sampling import SMOTE\n",
    "# SMOTE 인스턴스 생성\n",
    "oversampling_instance = SMOTE(k_neighbors = 3)\n",
    "\n",
    "# 오버샘플링 적용\n",
    "o_Train_X, o_Train_Y = oversampling_instance.fit_sample(Train_X, Train_Y)\n",
    "\n",
    "# ndarray 형태가 되므로 다시 DataFrame과 Series로 변환 (남은 전처리가 없다면 하지 않아도 무방)\n",
    "o_Train_X = pd.DataFrame(o_Train_X, columns = X.columns)\n",
    "o_Train_Y = pd.Series(o_Train_Y)"
   ]
  },
  {
   "cell_type": "code",
   "execution_count": 9,
   "metadata": {},
   "outputs": [
    {
     "name": "stdout",
     "output_type": "stream",
     "text": [
      "0.42105263157894735\n",
      "0.5969387755102041\n"
     ]
    }
   ],
   "source": [
    "# 같은 모델로 다시 평가: 정확도는 감소했으나, 재현율이 크게 오름을 확인\n",
    "kNN_model = KNN(n_neighbors = 11).fit(o_Train_X, o_Train_Y)\n",
    "pred_Y = kNN_model.predict(Test_X)\n",
    "print(recall_score(Test_Y, pred_Y))\n",
    "print(accuracy_score(Test_Y, pred_Y))"
   ]
  },
  {
   "cell_type": "markdown",
   "metadata": {},
   "source": [
    "#### 언더 샘플링"
   ]
  },
  {
   "cell_type": "code",
   "execution_count": 10,
   "metadata": {},
   "outputs": [
    {
     "data": {
      "text/plain": [
       "9.034229828850856"
      ]
     },
     "execution_count": 10,
     "metadata": {},
     "output_type": "execute_result"
    }
   ],
   "source": [
    "df = pd.read_csv(\"page-blocks0.csv\")\n",
    "X = df.drop('Class', axis = 1)\n",
    "Y = df['Class']\n",
    "\n",
    "Train_X, Test_X, Train_Y, Test_Y = train_test_split(X, Y)\n",
    "\n",
    "Train_Y.replace({\"negative\":-1, \"positive\":1}, inplace = True)\n",
    "Test_Y.replace({\"negative\":-1, \"positive\":1}, inplace = True)\n",
    "\n",
    "# 클래스 불균형 비율 계산\n",
    "Train_Y.value_counts().iloc[0] / Train_Y.value_counts().iloc[-1]"
   ]
  },
  {
   "cell_type": "code",
   "execution_count": 12,
   "metadata": {},
   "outputs": [
    {
     "name": "stderr",
     "output_type": "stream",
     "text": [
      "C:\\Users\\Gyu\\AppData\\Roaming\\Python\\Python36\\site-packages\\sklearn\\utils\\deprecation.py:86: FutureWarning: Function safe_indexing is deprecated; safe_indexing is deprecated in version 0.22 and will be removed in version 0.24.\n",
      "  warnings.warn(msg, category=FutureWarning)\n",
      "C:\\Users\\Gyu\\AppData\\Roaming\\Python\\Python36\\site-packages\\sklearn\\utils\\deprecation.py:86: FutureWarning: Function safe_indexing is deprecated; safe_indexing is deprecated in version 0.22 and will be removed in version 0.24.\n",
      "  warnings.warn(msg, category=FutureWarning)\n",
      "C:\\Users\\Gyu\\AppData\\Roaming\\Python\\Python36\\site-packages\\sklearn\\utils\\deprecation.py:86: FutureWarning: Function safe_indexing is deprecated; safe_indexing is deprecated in version 0.22 and will be removed in version 0.24.\n",
      "  warnings.warn(msg, category=FutureWarning)\n"
     ]
    }
   ],
   "source": [
    "from imblearn.under_sampling import NearMiss\n",
    "NM_model = NearMiss(version = 2) # version = 2: 모든 소수 클래스 샘플까지의 평균 거리를 활용\n",
    "\n",
    "# NearMiss 적용\n",
    "u_Train_X, u_Train_Y = NM_model.fit_sample(Train_X, Train_Y)\n",
    "u_Train_X = pd.DataFrame(u_Train_X, columns = X.columns)\n",
    "u_Train_Y = pd.Series(u_Train_Y)"
   ]
  },
  {
   "cell_type": "code",
   "execution_count": 13,
   "metadata": {},
   "outputs": [
    {
     "name": "stdout",
     "output_type": "stream",
     "text": [
      "0.9333333333333333\n",
      "0.21564327485380116\n"
     ]
    }
   ],
   "source": [
    "# kNN 재적용을 통한 성능 변화 확인\n",
    "from sklearn.neighbors import KNeighborsClassifier as KNN\n",
    "from sklearn.metrics import *\n",
    "kNN_model = KNN(n_neighbors = 11).fit(u_Train_X, u_Train_Y)\n",
    "pred_Y = kNN_model.predict(Test_X)\n",
    "print(recall_score(Test_Y, pred_Y))\n",
    "print(accuracy_score(Test_Y, pred_Y))\n",
    "\n",
    "# 재현율은 크게 올랐으나, 정확도가 크게 떨어짐 => 적당한 비율에 맞게 설정해야 함"
   ]
  },
  {
   "cell_type": "code",
   "execution_count": 14,
   "metadata": {},
   "outputs": [
    {
     "name": "stderr",
     "output_type": "stream",
     "text": [
      "C:\\Users\\Gyu\\AppData\\Roaming\\Python\\Python36\\site-packages\\sklearn\\utils\\deprecation.py:86: FutureWarning: Function safe_indexing is deprecated; safe_indexing is deprecated in version 0.22 and will be removed in version 0.24.\n",
      "  warnings.warn(msg, category=FutureWarning)\n",
      "C:\\Users\\Gyu\\AppData\\Roaming\\Python\\Python36\\site-packages\\sklearn\\utils\\deprecation.py:86: FutureWarning: Function safe_indexing is deprecated; safe_indexing is deprecated in version 0.22 and will be removed in version 0.24.\n",
      "  warnings.warn(msg, category=FutureWarning)\n",
      "C:\\Users\\Gyu\\AppData\\Roaming\\Python\\Python36\\site-packages\\sklearn\\utils\\deprecation.py:86: FutureWarning: Function safe_indexing is deprecated; safe_indexing is deprecated in version 0.22 and will be removed in version 0.24.\n",
      "  warnings.warn(msg, category=FutureWarning)\n",
      "C:\\Users\\Gyu\\AppData\\Roaming\\Python\\Python36\\site-packages\\sklearn\\utils\\deprecation.py:86: FutureWarning: Function safe_indexing is deprecated; safe_indexing is deprecated in version 0.22 and will be removed in version 0.24.\n",
      "  warnings.warn(msg, category=FutureWarning)\n"
     ]
    },
    {
     "data": {
      "text/plain": [
       "-1    2045\n",
       " 1     409\n",
       "dtype: int64"
      ]
     },
     "execution_count": 14,
     "metadata": {},
     "output_type": "execute_result"
    }
   ],
   "source": [
    "NM_model = NearMiss(version = 2, sampling_strategy = {1:u_Train_Y.value_counts().iloc[-1],\n",
    "                                                      -1:u_Train_Y.value_counts().iloc[-1] * 5}) # 5:1 정도의 비율로 언더샘플링 재수행\n",
    "\n",
    "u_Train_X, u_Train_Y = NM_model.fit_sample(Train_X, Train_Y)\n",
    "u_Train_X = pd.DataFrame(u_Train_X, columns = X.columns)\n",
    "u_Train_Y = pd.Series(u_Train_Y)\n",
    "\n",
    "u_Train_Y.value_counts()"
   ]
  },
  {
   "cell_type": "code",
   "execution_count": 15,
   "metadata": {},
   "outputs": [
    {
     "name": "stdout",
     "output_type": "stream",
     "text": [
      "0.8\n",
      "0.658625730994152\n"
     ]
    }
   ],
   "source": [
    "kNN_model = KNN(n_neighbors = 11).fit(u_Train_X, u_Train_Y)\n",
    "pred_Y = kNN_model.predict(Test_X)\n",
    "print(recall_score(Test_Y, pred_Y))\n",
    "print(accuracy_score(Test_Y, pred_Y))"
   ]
  },
  {
   "cell_type": "markdown",
   "metadata": {},
   "source": [
    "### 비용 민감 모델\n",
    "- 위음성 비용 : 긍정을 부정으로 오분류\n",
    "- 위양성 비용 : 부정을 긍정으로 오분류\n",
    "- 위음성 비용 = w * 위양성 비용\n",
    "\n",
    "#### cut-off\n",
    "cut-off를 조정하는 식으로 비용 민감 모델을 구현할 수 있음.\n",
    "    - knn, 신경망, 의사결정 나무, 앙상블에서도 적용은 가능\n",
    "    \n",
    "\n",
    "#### class_weight\n",
    "트리모델, svc 등에서 클래스에 가중치 부여"
   ]
  },
  {
   "cell_type": "code",
   "execution_count": 17,
   "metadata": {},
   "outputs": [],
   "source": [
    "df = pd.read_csv(\"Secom.csv\")\n",
    "X = df.drop('Y', axis = 1)\n",
    "Y = df['Y']\n",
    "Train_X, Test_X, Train_Y, Test_Y = train_test_split(X, Y)"
   ]
  },
  {
   "cell_type": "code",
   "execution_count": 18,
   "metadata": {},
   "outputs": [
    {
     "name": "stdout",
     "output_type": "stream",
     "text": [
      "0.17857142857142858\n",
      "0.9081632653061225\n"
     ]
    },
    {
     "name": "stderr",
     "output_type": "stream",
     "text": [
      "C:\\Users\\Gyu\\AppData\\Roaming\\Python\\Python36\\site-packages\\sklearn\\linear_model\\_logistic.py:764: ConvergenceWarning: lbfgs failed to converge (status=1):\n",
      "STOP: TOTAL NO. of f AND g EVALUATIONS EXCEEDS LIMIT.\n",
      "\n",
      "Increase the number of iterations (max_iter) or scale the data as shown in:\n",
      "    https://scikit-learn.org/stable/modules/preprocessing.html\n",
      "Please also refer to the documentation for alternative solver options:\n",
      "    https://scikit-learn.org/stable/modules/linear_model.html#logistic-regression\n",
      "  extra_warning_msg=_LOGISTIC_SOLVER_CONVERGENCE_MSG)\n"
     ]
    }
   ],
   "source": [
    "# 비용 민감 모델 적용전 Logistic Regression 모델 테스트\n",
    "from sklearn.linear_model import LogisticRegression as LR\n",
    "model = LR(max_iter = 100000).fit(Train_X, Train_Y)\n",
    "pred_Y = model.predict(Test_X)\n",
    "print(recall_score(Test_Y, pred_Y))\n",
    "print(accuracy_score(Test_Y, pred_Y))"
   ]
  },
  {
   "cell_type": "code",
   "execution_count": 20,
   "metadata": {},
   "outputs": [],
   "source": [
    "# cut off value를 조정하는 함수 작성\n",
    "def cost_sensitive_model(model, cut_off_value, Test_X, Test_Y):\n",
    "    probs = model.predict_proba(Test_X)\n",
    "    probs = pd.DataFrame(probs, columns = model.classes_)\n",
    "    pred_Y = 2 * (probs.iloc[:, -1] >= cut_off_value) - 1\n",
    "    recall = recall_score(Test_Y, pred_Y)\n",
    "    accuracy = accuracy_score(Test_Y, pred_Y)\n",
    "    return recall, accuracy"
   ]
  },
  {
   "cell_type": "code",
   "execution_count": 21,
   "metadata": {},
   "outputs": [
    {
     "data": {
      "text/plain": [
       "<matplotlib.legend.Legend at 0x1d71b452e10>"
      ]
     },
     "execution_count": 21,
     "metadata": {},
     "output_type": "execute_result"
    },
    {
     "data": {
      "image/png": "[encoded data removed]",
      "text/plain": [
       "<Figure size 432x288 with 1 Axes>"
      ]
     },
     "metadata": {
      "needs_background": "light"
     },
     "output_type": "display_data"
    }
   ],
   "source": [
    "# cut off value에 따른 recall과 accuracy 변화 확인\n",
    "from matplotlib import pyplot as plt\n",
    "import numpy as np\n",
    "\n",
    "cut_off_value_list = np.linspace(0, 1, 101)\n",
    "recall_list = []\n",
    "accuracy_list = []\n",
    "\n",
    "for c in cut_off_value_list:\n",
    "    recall, accuracy = cost_sensitive_model(model, c, Test_X, Test_Y)\n",
    "    recall_list.append(recall)\n",
    "    accuracy_list.append(accuracy)\n",
    "\n",
    "%matplotlib inline    \n",
    "plt.plot(cut_off_value_list, recall_list, label = 'recall')   \n",
    "plt.plot(cut_off_value_list, accuracy_list, label = 'accuracy')    \n",
    "plt.legend()"
   ]
  },
  {
   "cell_type": "markdown",
   "metadata": {},
   "source": [
    "class weight"
   ]
  },
  {
   "cell_type": "code",
   "execution_count": 22,
   "metadata": {},
   "outputs": [],
   "source": [
    "df = pd.read_csv(\"page-blocks0.csv\")\n",
    "X = df.drop('Class', axis = 1)\n",
    "Y = df['Class']\n",
    "Train_X, Test_X, Train_Y, Test_Y = train_test_split(X, Y)\n",
    "Train_Y.replace({\"negative\":-1, \"positive\":1}, inplace = True)\n",
    "Test_Y.replace({\"negative\":-1, \"positive\":1}, inplace = True)"
   ]
  },
  {
   "cell_type": "code",
   "execution_count": 23,
   "metadata": {},
   "outputs": [
    {
     "name": "stdout",
     "output_type": "stream",
     "text": [
      "0.072992700729927\n",
      "0.9071637426900585\n"
     ]
    }
   ],
   "source": [
    "from sklearn.svm import SVC\n",
    "model = SVC().fit(Train_X, Train_Y)\n",
    "pred_Y = model.predict(Test_X)\n",
    "print(recall_score(Test_Y, pred_Y))\n",
    "print(accuracy_score(Test_Y, pred_Y))"
   ]
  },
  {
   "cell_type": "code",
   "execution_count": 24,
   "metadata": {},
   "outputs": [
    {
     "name": "stdout",
     "output_type": "stream",
     "text": [
      "0.9343065693430657\n",
      "0.631578947368421\n"
     ]
    }
   ],
   "source": [
    "# class weight 조정\n",
    "model = SVC(class_weight = {1:8, -1:1}).fit(Train_X, Train_Y)\n",
    "pred_Y = model.predict(Test_X)\n",
    "print(recall_score(Test_Y, pred_Y))\n",
    "print(accuracy_score(Test_Y, pred_Y))"
   ]
  },
  {
   "cell_type": "code",
   "execution_count": null,
   "metadata": {},
   "outputs": [],
   "source": []
  }
 ],
 "metadata": {
  "kernelspec": {
   "display_name": "Python [conda env:py37] *",
   "language": "python",
   "name": "conda-env-py37-py"
  },
  "language_info": {
   "codemirror_mode": {
    "name": "ipython",
    "version": 3
   },
   "file_extension": ".py",
   "mimetype": "text/x-python",
   "name": "python",
   "nbconvert_exporter": "python",
   "pygments_lexer": "ipython3",
   "version": "3.6.9"
  }
 },
 "nbformat": 4,
 "nbformat_minor": 2
}
