{
 "cells": [
  {
   "cell_type": "markdown",
   "metadata": {},
   "source": [
    "### List vs Tuple"
   ]
  },
  {
   "cell_type": "code",
   "execution_count": 2,
   "metadata": {},
   "outputs": [
    {
     "name": "stdout",
     "output_type": "stream",
     "text": [
      "[10, 2, 3, 4, 5]\n"
     ]
    }
   ],
   "source": [
    "L = [1, 2, 3, 4, 5]\n",
    "L[0] = 10\n",
    "print(L)"
   ]
  },
  {
   "cell_type": "code",
   "execution_count": 3,
   "metadata": {},
   "outputs": [
    {
     "ename": "TypeError",
     "evalue": "'tuple' object does not support item assignment",
     "output_type": "error",
     "traceback": [
      "\u001b[1;31m---------------------------------------------------------------------------\u001b[0m",
      "\u001b[1;31mTypeError\u001b[0m                                 Traceback (most recent call last)",
      "\u001b[1;32m<ipython-input-3-4efb75ddfec7>\u001b[0m in \u001b[0;36m<module>\u001b[1;34m\u001b[0m\n\u001b[0;32m      1\u001b[0m \u001b[0mT\u001b[0m \u001b[1;33m=\u001b[0m \u001b[1;33m(\u001b[0m\u001b[1;36m1\u001b[0m\u001b[1;33m,\u001b[0m \u001b[1;36m2\u001b[0m\u001b[1;33m,\u001b[0m \u001b[1;36m3\u001b[0m\u001b[1;33m,\u001b[0m \u001b[1;36m4\u001b[0m\u001b[1;33m,\u001b[0m \u001b[1;36m5\u001b[0m\u001b[1;33m)\u001b[0m\u001b[1;33m\u001b[0m\u001b[1;33m\u001b[0m\u001b[0m\n\u001b[1;32m----> 2\u001b[1;33m \u001b[0mT\u001b[0m\u001b[1;33m[\u001b[0m\u001b[1;36m0\u001b[0m\u001b[1;33m]\u001b[0m \u001b[1;33m=\u001b[0m \u001b[1;36m10\u001b[0m\u001b[1;33m\u001b[0m\u001b[1;33m\u001b[0m\u001b[0m\n\u001b[0m",
      "\u001b[1;31mTypeError\u001b[0m: 'tuple' object does not support item assignment"
     ]
    }
   ],
   "source": [
    "T = (1, 2, 3, 4, 5)\n",
    "T[0] = 10"
   ]
  },
  {
   "cell_type": "markdown",
   "metadata": {},
   "source": [
    "- 리스트는 가변, 튜플은 불변\n",
    "- 따라서 리스트는 사전의 key로 사용할 수 없지만 튜플은 가능"
   ]
  },
  {
   "cell_type": "code",
   "execution_count": 5,
   "metadata": {},
   "outputs": [
    {
     "name": "stdout",
     "output_type": "stream",
     "text": [
      "0.0030333995819091797\n",
      "0.0019676685333251953\n"
     ]
    }
   ],
   "source": [
    "# 순회 속도\n",
    "large_L = list(range(100000))\n",
    "large_T = tuple(range(100000))\n",
    "\n",
    "import time\n",
    "start_time = time.time()\n",
    "for val1 in large_L:\n",
    "    pass\n",
    "end_time = time.time()\n",
    "print(end_time - start_time)\n",
    "\n",
    "start_time = time.time()\n",
    "for val2 in large_T:\n",
    "    pass\n",
    "end_time = time.time()\n",
    "print(end_time - start_time)  "
   ]
  },
  {
   "cell_type": "markdown",
   "metadata": {},
   "source": [
    "튜플이 약간 더 빨라서 변경할 필요가 없을 경우 튜플이 유용"
   ]
  },
  {
   "cell_type": "code",
   "execution_count": 7,
   "metadata": {},
   "outputs": [
    {
     "name": "stdout",
     "output_type": "stream",
     "text": [
      "[1, 2, 3, 4, 5, 6]\n"
     ]
    }
   ],
   "source": [
    "# 합치기\n",
    "L1 = [1, 2, 3]\n",
    "L2 = [4, 5, 6]\n",
    "print(L1 + L2)"
   ]
  },
  {
   "cell_type": "code",
   "execution_count": 6,
   "metadata": {},
   "outputs": [
    {
     "name": "stdout",
     "output_type": "stream",
     "text": [
      "(1, 2, 3, 4)\n"
     ]
    }
   ],
   "source": [
    "# 소괄호없이 튜플 만들기\n",
    "T = 1, 2, 3, 4\n",
    "print(T)"
   ]
  },
  {
   "cell_type": "code",
   "execution_count": 8,
   "metadata": {},
   "outputs": [
    {
     "name": "stdout",
     "output_type": "stream",
     "text": [
      "1의 위치:0\n",
      "3의 위치:1\n"
     ]
    }
   ],
   "source": [
    "# 위치 찾기 함수: index\n",
    "L5 = [1, 3, 2, 1, 4]\n",
    "print(\"1의 위치:{}\".format(L5.index(1)))\n",
    "print(\"3의 위치:{}\".format(L5.index(3)))"
   ]
  },
  {
   "cell_type": "code",
   "execution_count": 9,
   "metadata": {},
   "outputs": [
    {
     "name": "stdout",
     "output_type": "stream",
     "text": [
      "[4, 7, 5, 1, 2, 10]\n",
      "[3, 2, 1, 4]\n"
     ]
    }
   ],
   "source": [
    "# 요소 추가 함수: insert\n",
    "L2 = [4, 5, 1, 2, 10]\n",
    "L2.insert(1, 7)\n",
    "print(L2)\n",
    "# 요소 제거 함수: remove\n",
    "L3 = [1, 3, 2, 1, 4]\n",
    "L3.remove(1)\n",
    "print(L3)\n",
    "# 요소가 여러 개면 맨 앞의 하나만 지워짐."
   ]
  },
  {
   "cell_type": "code",
   "execution_count": 10,
   "metadata": {},
   "outputs": [
    {
     "name": "stdout",
     "output_type": "stream",
     "text": [
      "1 2\n",
      "2 1\n"
     ]
    }
   ],
   "source": [
    "# 튜플을 이용한 여러 값 동시에 입력받기 및 Swap\n",
    "a, b = 1, 2 # a = 1; b = 2\n",
    "print(a, b)\n",
    "b, a = a, b # Swap\n",
    "print(a, b)"
   ]
  },
  {
   "cell_type": "code",
   "execution_count": null,
   "metadata": {},
   "outputs": [],
   "source": [
    "# 함수의 가변 인자로 사용\n",
    "def f(*x): # *: 인자수가 정해지지 않았음을 의미\n",
    "    print(\"입력된 데이터의 타입:{}\".format(type(x)))\n",
    "    sum_x = 0\n",
    "    product_x = 1\n",
    "    for val in x:\n",
    "        sum_x += val\n",
    "        product_x *= val\n",
    "    return sum_x, product_x\n",
    "        \n",
    "S, P = f(1, 2, 3, 4, 5) # 출력을 각각 S와 P로 받음\n",
    "print(S, P)"
   ]
  },
  {
   "cell_type": "markdown",
   "metadata": {},
   "source": [
    "itertools"
   ]
  },
  {
   "cell_type": "code",
   "execution_count": 12,
   "metadata": {},
   "outputs": [
    {
     "name": "stdout",
     "output_type": "stream",
     "text": [
      "0 0 0\n",
      "0 0 1\n",
      "0 0 2\n",
      "0 1 0\n",
      "0 1 1\n",
      "0 1 2\n",
      "0 2 0\n",
      "0 2 1\n",
      "0 2 2\n",
      "1 0 0\n",
      "1 0 1\n",
      "1 0 2\n",
      "1 1 0\n",
      "1 1 1\n",
      "1 1 2\n",
      "1 2 0\n",
      "1 2 1\n",
      "1 2 2\n",
      "2 0 0\n",
      "2 0 1\n",
      "2 0 2\n",
      "2 1 0\n",
      "2 1 1\n",
      "2 1 2\n",
      "2 2 0\n",
      "2 2 1\n",
      "2 2 2\n"
     ]
    }
   ],
   "source": [
    "import itertools\n",
    "for a, b, c in itertools.product(range(3), range(3), range(3)):\n",
    "    print(a, b, c)"
   ]
  },
  {
   "cell_type": "code",
   "execution_count": 13,
   "metadata": {},
   "outputs": [
    {
     "name": "stdout",
     "output_type": "stream",
     "text": [
      "0 0 0\n",
      "1 1 1\n",
      "2 2 2\n",
      "3 3 3\n",
      "4 4 4\n"
     ]
    }
   ],
   "source": [
    "for a, b, c in zip(range(5), range(5), range(5)):\n",
    "    print(a, b, c)"
   ]
  },
  {
   "cell_type": "code",
   "execution_count": 14,
   "metadata": {},
   "outputs": [
    {
     "name": "stdout",
     "output_type": "stream",
     "text": [
      "('a', 'b')\n",
      "('a', 'c')\n",
      "('a', 'd')\n",
      "('b', 'c')\n",
      "('b', 'd')\n",
      "('c', 'd')\n"
     ]
    }
   ],
   "source": [
    "# itertools.combination 예제\n",
    "# L에서 2개로 이뤄진 가능한 모든 조합 뽑기\n",
    "L = ['a', 'b', 'c', 'd']\n",
    "for comb in itertools.combinations(L, 2):\n",
    "    print(comb)"
   ]
  },
  {
   "cell_type": "code",
   "execution_count": 15,
   "metadata": {},
   "outputs": [
    {
     "name": "stdout",
     "output_type": "stream",
     "text": [
      "('a',)\n",
      "('b',)\n",
      "('c',)\n",
      "('d',)\n",
      "('a', 'b')\n",
      "('a', 'c')\n",
      "('a', 'd')\n",
      "('b', 'c')\n",
      "('b', 'd')\n",
      "('c', 'd')\n",
      "('a', 'b', 'c')\n",
      "('a', 'b', 'd')\n",
      "('a', 'c', 'd')\n",
      "('b', 'c', 'd')\n",
      "('a', 'b', 'c', 'd')\n"
     ]
    }
   ],
   "source": [
    "# L에서 가능한 모든 조합 뽑기\n",
    "for r in range(1, len(L) + 1):\n",
    "    for comb in itertools.combinations(L, r):\n",
    "        print(comb)"
   ]
  },
  {
   "cell_type": "markdown",
   "metadata": {},
   "source": [
    "List comprehension"
   ]
  },
  {
   "cell_type": "code",
   "execution_count": 16,
   "metadata": {},
   "outputs": [
    {
     "data": {
      "text/plain": [
       "[4, 2, 3, 5, 5, 3, 4, 6, 6, 4, 5, 7]"
      ]
     },
     "execution_count": 16,
     "metadata": {},
     "output_type": "execute_result"
    }
   ],
   "source": [
    "X = [1, 2, 3, 'a', 'b']\n",
    "Y = [3, 1, 2, 'c', 4]\n",
    "\n",
    "L4 = [x + y for x, y in itertools.product(X, Y) if type(x) == type(y) == int]\n",
    "L4"
   ]
  },
  {
   "cell_type": "markdown",
   "metadata": {},
   "source": [
    "dictionary comprehension"
   ]
  },
  {
   "cell_type": "code",
   "execution_count": 17,
   "metadata": {},
   "outputs": [
    {
     "data": {
      "text/plain": [
       "{0: 0, 1: 1, 2: 2, 3: 3, 4: 4, 5: 5, 6: 6, 7: 7, 8: 8, 9: 9}"
      ]
     },
     "execution_count": 17,
     "metadata": {},
     "output_type": "execute_result"
    }
   ],
   "source": [
    "dic1 = {x:y for x, y in zip(range(10), range(10))}\n",
    "dic1"
   ]
  },
  {
   "cell_type": "code",
   "execution_count": 18,
   "metadata": {},
   "outputs": [
    {
     "data": {
      "text/plain": [
       "{2: 2, 3: 4}"
      ]
     },
     "execution_count": 18,
     "metadata": {},
     "output_type": "execute_result"
    }
   ],
   "source": [
    "dic = {1:'NaN', 2:2, 3:4, 4:'NaN'}\n",
    "dic2 = {x:y for x, y in dic.items() if y != 'NaN'}\n",
    "dic2"
   ]
  },
  {
   "cell_type": "markdown",
   "metadata": {},
   "source": [
    "## numpy"
   ]
  },
  {
   "cell_type": "code",
   "execution_count": 21,
   "metadata": {},
   "outputs": [
    {
     "name": "stdout",
     "output_type": "stream",
     "text": [
      "np.zeros(10, dtype = int):\n",
      " [0 0 0 0 0 0 0 0 0 0]\n",
      "\n",
      "np.ones((3, 5), dtype = float):\n",
      " [[1. 1. 1. 1. 1.]\n",
      " [1. 1. 1. 1. 1.]\n",
      " [1. 1. 1. 1. 1.]]\n",
      "\n",
      "np.full((3,5), 3.14):\n",
      " [[3.14 3.14 3.14 3.14 3.14]\n",
      " [3.14 3.14 3.14 3.14 3.14]\n",
      " [3.14 3.14 3.14 3.14 3.14]]\n",
      "\n",
      "np.arange(0, 20, 2):\n",
      " [ 0  2  4  6  8 10 12 14 16 18]\n",
      "\n",
      "np.linspace(0, 1, 5):\n",
      " [0.   0.25 0.5  0.75 1.  ]\n",
      "\n",
      "np.random.random((3,3)):\n",
      " [[0.49173074 0.46304299 0.00268079]\n",
      " [0.68930292 0.65971862 0.4622951 ]\n",
      " [0.72336011 0.70926002 0.71550376]]\n",
      "\n",
      "np.random.normal(0, 1, (3, 3)):\n",
      " [[-0.02640436  0.25869072  0.79028337]\n",
      " [ 0.97139198  0.57392848 -2.28348274]\n",
      " [ 1.02665627  0.86635498 -1.12329301]]\n",
      "\n",
      "np.random.randint(0, 10, (3, 3)):\n",
      " [[6 6 3]\n",
      " [0 7 0]\n",
      " [5 1 5]]\n",
      "\n",
      "np.eye(3):\n",
      " [[1. 0. 0.]\n",
      " [0. 1. 0.]\n",
      " [0. 0. 1.]]\n"
     ]
    }
   ],
   "source": [
    "import numpy as np\n",
    "\n",
    "a = np.zeros(10, dtype = int) # 0으로 채운 배열 생성\n",
    "b = np.ones((3, 5), dtype = float) #1로 채운 배열 생성\n",
    "c = np.full((3,5), 3.14) # 3.14로 채운 배열 만들기 \n",
    "d = np.arange(0, 20, 2) # 0에서 시작해 2씩 더해 20까지 채우는 배열 생성\n",
    "e = np.linspace(0, 1, 5) # 0과 1 사이에 일정한 간격을 가진 다섯 개의 값으로 채운 배열 만들기\n",
    "f = np.random.random((3,3)) # 3*3 크기의 난수 배열 생성\n",
    "g = np.random.normal(0, 1, (3, 3)) # 평균 0, 표준 편차 1의 정규 분포를 따르는 3*3 난수 배열\n",
    "h = np.random.randint(0, 10, (3, 3)) # [0, 10) 구간의 임의로 정수로 채운 3*3 배열 만들기\n",
    "i = np.eye(3) # 크기 3의 단위 행렬 만들기\n",
    "\n",
    "print(\"np.zeros(10, dtype = int):\\n\", a)\n",
    "print(\"\\nnp.ones((3, 5), dtype = float):\\n\", b)\n",
    "print(\"\\nnp.full((3,5), 3.14):\\n\", c)\n",
    "print(\"\\nnp.arange(0, 20, 2):\\n\", d)\n",
    "print(\"\\nnp.linspace(0, 1, 5):\\n\", e)\n",
    "print(\"\\nnp.random.random((3,3)):\\n\", f)\n",
    "print(\"\\nnp.random.normal(0, 1, (3, 3)):\\n\", g)\n",
    "print(\"\\nnp.random.randint(0, 10, (3, 3)):\\n\", h)\n",
    "print(\"\\nnp.eye(3):\\n\", i)"
   ]
  },
  {
   "cell_type": "code",
   "execution_count": 22,
   "metadata": {},
   "outputs": [
    {
     "name": "stdout",
     "output_type": "stream",
     "text": [
      "x2[0:3, 2:4]\n",
      " [[0.16778874 0.02305253]\n",
      " [0.32663603 0.25817092]\n",
      " [0.75650858 0.80628496]]\n"
     ]
    }
   ],
   "source": [
    "# 2차원 배열의 인덱싱 및 슬라이싱\n",
    "x2 = np.random.random(size = (10, 5))\n",
    "print(\"x2[0:3, 2:4]\\n\", x2[0:3, 2:4])"
   ]
  },
  {
   "cell_type": "markdown",
   "metadata": {},
   "source": [
    "유니버설 함수\n",
    "\n",
    "- ndarray의 개별 요소에 반복 연산을 빠르게 수행\n",
    "- 단순 반복문에 비해 매우 빠름"
   ]
  },
  {
   "cell_type": "code",
   "execution_count": 23,
   "metadata": {},
   "outputs": [
    {
     "name": "stdout",
     "output_type": "stream",
     "text": [
      "반복문을 사용한 경우: 38.4306\n",
      "유니버설 함수를 사용한 경우: 11.3172\n"
     ]
    }
   ],
   "source": [
    "# 루프와 유니버설 함수의 속도 비교\n",
    "arr_1 = np.random.randint(1, 10, size = 10 ** 8)\n",
    "arr_2 = np.random.randint(1, 10, size = 10 ** 8)\n",
    "import time\n",
    "### 리스트를 사용하여 벡터의 덧셈 구현\n",
    "t1 = time.time()\n",
    "output = []\n",
    "for val1, val2 in zip(arr_1, arr_2):\n",
    "    output.append(val1 + val2)\n",
    "t2 = time.time()\n",
    "print(\"반복문을 사용한 경우:\", round(t2 - t1, 4))\n",
    "\n",
    "### 유니버설 함수를 사용하여 벡터의 덧셈 구현\n",
    "t1 = time.time()\n",
    "output = arr_1 + arr_2\n",
    "t2 = time.time()\n",
    "print(\"유니버설 함수를 사용한 경우:\", round(t2 - t1, 4))"
   ]
  },
  {
   "cell_type": "code",
   "execution_count": 24,
   "metadata": {},
   "outputs": [
    {
     "name": "stdout",
     "output_type": "stream",
     "text": [
      "X: [[0.22543134 0.99860555 0.98367984]\n",
      " [0.18185618 0.52383075 0.78330733]\n",
      " [0.72287432 0.17779657 0.44295914]\n",
      " [0.93029692 0.40142867 0.99880821]\n",
      " [0.36596234 0.89774133 0.69509612]\n",
      " [0.18277619 0.49873253 0.69750447]\n",
      " [0.68219194 0.60065098 0.90376948]\n",
      " [0.25609112 0.03330874 0.19355128]\n",
      " [0.83753592 0.60829148 0.54093718]\n",
      " [0.79749719 0.81298674 0.63901808]]\n",
      "\n",
      "Xmean:\n",
      " [0.51825135 0.55533733 0.68786311]\n",
      "\n",
      "Xstd:\n",
      " [0.28667373 0.28773311 0.23840303]\n",
      "\n",
      "Z:\n",
      " [[-1.02143997  1.54055338  1.24082623]\n",
      " [-1.17344259 -0.10949933  0.40034816]\n",
      " [ 0.71378348 -1.3121214  -1.02726873]\n",
      " [ 1.43733286 -0.53490077  1.30428335]\n",
      " [-0.53122763  1.19000555  0.0303394 ]\n",
      " [-1.17023332 -0.19672678  0.04044143]\n",
      " [ 0.57187171  0.157485    0.90563602]\n",
      " [-0.91448988 -1.81428058 -2.07342934]\n",
      " [ 1.11375595  0.18403911 -0.61629223]\n",
      " [ 0.97408939  0.89544581 -0.2048843 ]]\n"
     ]
    }
   ],
   "source": [
    "# 브로드캐스팅 예시: z - normalization\n",
    "X = np.random.random((10, 3))\n",
    "Xmean = X.mean(axis = 0) # 열별 평균 크기: (1, 3)\n",
    "Xstd = X.std(axis = 0) # 열별 표준편차 크기: (1, 3)\n",
    "\n",
    "Z = (X - Xmean) / Xstd\n",
    "\n",
    "print(\"X:\", X)\n",
    "print(\"\\nXmean:\\n\", Xmean)\n",
    "print(\"\\nXstd:\\n\", Xstd)\n",
    "print(\"\\nZ:\\n\", Z)"
   ]
  },
  {
   "cell_type": "code",
   "execution_count": 25,
   "metadata": {},
   "outputs": [
    {
     "name": "stdout",
     "output_type": "stream",
     "text": [
      "3\n",
      "[3 4 5]\n"
     ]
    }
   ],
   "source": [
    "L = np.array([1, 2, 3, 4, 5])\n",
    "cond = L >= 3\n",
    "print(sum(cond))\n",
    "print(L[cond])"
   ]
  },
  {
   "cell_type": "markdown",
   "metadata": {},
   "source": [
    "## Pandas"
   ]
  },
  {
   "cell_type": "code",
   "execution_count": 26,
   "metadata": {},
   "outputs": [
    {
     "data": {
      "text/plain": [
       "a    1\n",
       "b    2\n",
       "c    3\n",
       "d    4\n",
       "dtype: int64"
      ]
     },
     "execution_count": 26,
     "metadata": {},
     "output_type": "execute_result"
    }
   ],
   "source": [
    "import pandas as pd\n",
    "# S = pd.Series({\"a\": 1, \"b\": 2, \"c\":3, \"d\":4})\n",
    "# dict\n",
    "\n",
    "S = pd.Series([1, 2, 3, 4], index = ['a', 'b', 'c', 'd'])\n",
    "S"
   ]
  },
  {
   "cell_type": "code",
   "execution_count": null,
   "metadata": {},
   "outputs": [],
   "source": [
    "# 모든 행과 모든 열을 보여주기\n",
    "# pd.set_option('display.max_rows', None)\n",
    "# pd.set_option('display.max_columns', None)\n",
    "# None에 숫자 들어가면 그 개수만큼"
   ]
  }
 ],
 "metadata": {
  "kernelspec": {
   "display_name": "Python [conda env:py37] *",
   "language": "python",
   "name": "conda-env-py37-py"
  },
  "language_info": {
   "codemirror_mode": {
    "name": "ipython",
    "version": 3
   },
   "file_extension": ".py",
   "mimetype": "text/x-python",
   "name": "python",
   "nbconvert_exporter": "python",
   "pygments_lexer": "ipython3",
   "version": "3.6.9"
  }
 },
 "nbformat": 4,
 "nbformat_minor": 2
}
