{
 "cells": [
  {
   "cell_type": "markdown",
   "metadata": {},
   "source": [
    "### 결측치 처리\n",
    "1. 삭제\n",
    "2. 대표값\n",
    "3. 근처값\n",
    "4. 결측 예측 모델\n",
    "\n",
    "<br>\n",
    "\n",
    "#### 대표값 대체\n",
    "특징의 타입이 같은 경우"
   ]
  },
  {
   "cell_type": "code",
   "execution_count": 2,
   "metadata": {},
   "outputs": [],
   "source": [
    "import pandas as pd\n",
    "import os\n",
    "\n",
    "os.chdir(r\"C:\\Users\\Gyu\\Desktop\\mywork\\FastOnline\\Part 4. 머신러닝을 위한 필수 전처리\\데이터\")"
   ]
  },
  {
   "cell_type": "code",
   "execution_count": 3,
   "metadata": {},
   "outputs": [],
   "source": [
    "df = pd.read_csv(\"cleveland.csv\")\n",
    "X = df.drop('Output', axis = 1)\n",
    "Y = df['Output']"
   ]
  },
  {
   "cell_type": "code",
   "execution_count": 4,
   "metadata": {},
   "outputs": [],
   "source": [
    "from sklearn.model_selection import train_test_split\n",
    "Train_X, Test_X, Train_Y, Test_Y = train_test_split(X, Y)"
   ]
  },
  {
   "cell_type": "code",
   "execution_count": 5,
   "metadata": {},
   "outputs": [
    {
     "data": {
      "text/plain": [
       "Age         0\n",
       "Sex         0\n",
       "Cp          0\n",
       "Trestbps    0\n",
       "Chol        0\n",
       "Fbs         0\n",
       "Restecg     0\n",
       "Thalach     0\n",
       "Exang       0\n",
       "Oldpeak     0\n",
       "Slope       0\n",
       "Ca          2\n",
       "Thal        1\n",
       "dtype: int64"
      ]
     },
     "execution_count": 5,
     "metadata": {},
     "output_type": "execute_result"
    }
   ],
   "source": [
    "# 결측치 확인\n",
    "Train_X.isnull().sum()"
   ]
  },
  {
   "cell_type": "code",
   "execution_count": 6,
   "metadata": {},
   "outputs": [
    {
     "data": {
      "text/plain": [
       "Age         0.164648\n",
       "Sex         0.147743\n",
       "Cp          0.070750\n",
       "Trestbps    0.155093\n",
       "Chol        0.104186\n",
       "Fbs         0.121638\n",
       "Restecg     0.170187\n",
       "Thalach    -0.066403\n",
       "Exang       0.162758\n",
       "Oldpeak     0.196489\n",
       "Slope       0.158824\n",
       "Ca          0.121066\n",
       "Thal        0.174753\n",
       "dtype: float64"
      ]
     },
     "execution_count": 6,
     "metadata": {},
     "output_type": "execute_result"
    }
   ],
   "source": [
    "# 평균 상관 계수 확인 (주의: 모든 변수가 연속형이므로 가능한 접근)\n",
    "Train_X.corr().sum() / (len(Train_X.columns) - 1)\n",
    "\n",
    "# 수치가 높지 않다고 판단 => 특징 간 관계가 크지 않음 => 대표값 대체 활용 가능 판단"
   ]
  },
  {
   "cell_type": "code",
   "execution_count": 7,
   "metadata": {},
   "outputs": [
    {
     "data": {
      "text/plain": [
       "Age         0\n",
       "Sex         0\n",
       "Cp          0\n",
       "Trestbps    0\n",
       "Chol        0\n",
       "Fbs         0\n",
       "Restecg     0\n",
       "Thalach     0\n",
       "Exang       0\n",
       "Oldpeak     0\n",
       "Slope       0\n",
       "Ca          0\n",
       "Thal        0\n",
       "dtype: int64"
      ]
     },
     "execution_count": 7,
     "metadata": {},
     "output_type": "execute_result"
    }
   ],
   "source": [
    "# 대표값을 활용한 결측치 대체\n",
    "from sklearn.impute import SimpleImputer\n",
    "\n",
    "# SimpleImputer 인스턴스화\n",
    "SI = SimpleImputer(strategy = 'mean')\n",
    "\n",
    "# 학습\n",
    "SI.fit(Train_X)\n",
    "\n",
    "# sklearn instance의 출력은 ndarray이므로 다시 DataFrame으로 바꿔줌\n",
    "Train_X = pd.DataFrame(SI.transform(Train_X), columns = Train_X.columns)\n",
    "Test_X = pd.DataFrame(SI.transform(Test_X), columns = Test_X.columns)\n",
    "\n",
    "Train_X.isnull().sum()"
   ]
  },
  {
   "cell_type": "markdown",
   "metadata": {},
   "source": [
    "복잡한 케이스: 다른 타입의 특징이 있는 경우"
   ]
  },
  {
   "cell_type": "code",
   "execution_count": 12,
   "metadata": {},
   "outputs": [
    {
     "data": {
      "text/plain": [
       "Sbp          0\n",
       "Tobacco      0\n",
       "Ldl          0\n",
       "Adiposity    0\n",
       "Typea        0\n",
       "Obesity      8\n",
       "Alcohol      5\n",
       "Age          0\n",
       "Famhist      4\n",
       "dtype: int64"
      ]
     },
     "execution_count": 12,
     "metadata": {},
     "output_type": "execute_result"
    }
   ],
   "source": [
    "df = pd.read_csv(\"saheart.csv\")\n",
    "X = df.drop('Chd', axis = 1)\n",
    "Y = df['Chd']\n",
    "Train_X, Test_X, Train_Y, Test_Y = train_test_split(X, Y)\n",
    "Train_X.isnull().sum()"
   ]
  },
  {
   "cell_type": "code",
   "execution_count": 13,
   "metadata": {},
   "outputs": [
    {
     "data": {
      "text/plain": [
       "Sbp          0.312477\n",
       "Tobacco      0.232009\n",
       "Ldl          0.288555\n",
       "Adiposity    0.439326\n",
       "Typea        0.117336\n",
       "Obesity      0.367597\n",
       "Alcohol      0.205913\n",
       "Age          0.376832\n",
       "Famhist      0.265572\n",
       "dtype: float64"
      ]
     },
     "execution_count": 13,
     "metadata": {},
     "output_type": "execute_result"
    }
   ],
   "source": [
    "Train_X.corr().sum() / (len(Train_X.columns) - 1)"
   ]
  },
  {
   "cell_type": "code",
   "execution_count": 14,
   "metadata": {},
   "outputs": [],
   "source": [
    "# Famhist: 범주형 변수\n",
    "# 그 외 변수: 연속형 변수\n",
    "\n",
    "# 대표값을 평균을 사용할지, 최빈값을 사용할지 결정이 어려움 => 둘 다 사용해야 함\n",
    "# 따라서 데이터를 분할해야 함\n",
    "\n",
    "Train_X_cate = Train_X[['Famhist']]\n",
    "Train_X_cont = Train_X.drop('Famhist', axis = 1)\n",
    "\n",
    "Test_X_cate = Test_X[['Famhist']]\n",
    "Test_X_cont = Test_X.drop('Famhist', axis = 1)\n",
    "\n",
    "SI_mode = SimpleImputer(strategy = 'most_frequent')\n",
    "SI_mean = SimpleImputer(strategy = 'mean')\n",
    "\n",
    "# 학습\n",
    "SI_mode.fit(Train_X_cate)\n",
    "SI_mean.fit(Train_X_cont)\n",
    "\n",
    "# sklearn instance의 출력은 ndarray이므로 다시 DataFrame으로 바꿔줌\n",
    "Train_X_cate = pd.DataFrame(SI_mode.transform(Train_X_cate),\n",
    "                            columns = Train_X_cate.columns)\n",
    "\n",
    "Test_X_cate = pd.DataFrame(SI_mode.transform(Test_X_cate),\n",
    "                           columns = Test_X_cate.columns)\n",
    "\n",
    "Train_X_cont = pd.DataFrame(SI_mean.transform(Train_X_cont),\n",
    "                            columns = Train_X_cont.columns)\n",
    "\n",
    "Test_X_cont = pd.DataFrame(SI_mean.transform(Test_X_cont),\n",
    "                           columns = Test_X_cont.columns)\n",
    "\n",
    "# 다시 두 데이터를 이어붙여야 함\n",
    "Train_X = pd.concat([Train_X_cate, Train_X_cont], axis = 1)\n",
    "Test_X = pd.concat([Test_X_cate, Test_X_cont], axis = 1)"
   ]
  },
  {
   "cell_type": "code",
   "execution_count": 15,
   "metadata": {},
   "outputs": [
    {
     "data": {
      "text/plain": [
       "Famhist      0\n",
       "Sbp          0\n",
       "Tobacco      0\n",
       "Ldl          0\n",
       "Adiposity    0\n",
       "Typea        0\n",
       "Obesity      0\n",
       "Alcohol      0\n",
       "Age          0\n",
       "dtype: int64"
      ]
     },
     "execution_count": 15,
     "metadata": {},
     "output_type": "execute_result"
    }
   ],
   "source": [
    "Train_X.isnull().sum()"
   ]
  },
  {
   "cell_type": "markdown",
   "metadata": {},
   "source": [
    "Tip. 이진형 변수와 연속형 변수만 포함된 경우에는 SI_mean만 사용하여 결측치를 평균으로 대체한 뒤에, 이진형 변수에 대해서만 round 처리를 하면 하나의 인스턴스만 활용할 수 있음\n",
    "\n",
    "<br>\n",
    "\n",
    "---\n",
    "### 근처값 대체\n",
    "\n",
    "- 시계열 데이터에 한정\n",
    "- ffill : 결측치 이전의 유효한 값으로 대체\n",
    "- bfill : 결측치 이후\n",
    "\n"
   ]
  },
  {
   "cell_type": "code",
   "execution_count": 17,
   "metadata": {},
   "outputs": [
    {
     "data": {
      "text/plain": [
       "Date             0\n",
       "Time             0\n",
       "CO(GT)           0\n",
       "PT08.S1(CO)      0\n",
       "NMHC(GT)         0\n",
       "C6H6(GT)         0\n",
       "PT08.S2(NMHC)    0\n",
       "NOx(GT)          0\n",
       "PT08.S3(NOx)     0\n",
       "NO2(GT)          0\n",
       "PT08.S4(NO2)     0\n",
       "PT08.S5(O3)      0\n",
       "T                0\n",
       "RH               0\n",
       "AH               0\n",
       "dtype: int64"
      ]
     },
     "execution_count": 17,
     "metadata": {},
     "output_type": "execute_result"
    }
   ],
   "source": [
    "df = pd.read_excel(\"AirQuality.xlsx\")\n",
    "df = df.fillna(method = 'ffill').fillna(method = 'bfill')\n",
    "# 새로운 데이터의 가능성 때문에 ffill하고 bfill하기\n",
    "df.isnull().sum()"
   ]
  },
  {
   "cell_type": "markdown",
   "metadata": {},
   "source": [
    "### 결측치 대체 모델\n",
    "1. 결측이 소수 칼럼에 쏠리면 안 된다.\n",
    "2. 특징 간에 관계가 존재해야 한다.\n",
    "\n",
    "시간이 오래 소요되는 단점이 있음.\n",
    "\n",
    "\n",
    "#### KNNImputer\n",
    "- 결측이 아닌 값을 사용해 이웃을 구한 뒤, 이웃들의 대표값으로 결측 대체\n",
    "- n_neighbors : 이웃 수, 너무 적으면 정상적으로 이루어지지 않아 5정도가 적절"
   ]
  },
  {
   "cell_type": "code",
   "execution_count": 22,
   "metadata": {},
   "outputs": [],
   "source": [
    "df = pd.read_csv(\"mammographic.csv\")\n",
    "X = df.drop('Output', axis = 1)\n",
    "Y = df['Output']\n",
    "Train_X, Test_X, Train_Y, Test_Y = train_test_split(X, Y)"
   ]
  },
  {
   "cell_type": "code",
   "execution_count": 23,
   "metadata": {},
   "outputs": [
    {
     "data": {
      "text/plain": [
       "BI-RADS    0.002778\n",
       "Age        0.004167\n",
       "Shape      0.033333\n",
       "Margin     0.052778\n",
       "Density    0.086111\n",
       "dtype: float64"
      ]
     },
     "execution_count": 23,
     "metadata": {},
     "output_type": "execute_result"
    }
   ],
   "source": [
    "Train_X.isnull().sum() / len(Train_X)"
   ]
  },
  {
   "cell_type": "code",
   "execution_count": 24,
   "metadata": {},
   "outputs": [
    {
     "data": {
      "text/plain": [
       "BI-RADS    0.449088\n",
       "Age        0.413815\n",
       "Shape      0.513005\n",
       "Margin     0.534979\n",
       "Density    0.256597\n",
       "dtype: float64"
      ]
     },
     "execution_count": 24,
     "metadata": {},
     "output_type": "execute_result"
    }
   ],
   "source": [
    "Train_X.corr().sum() / len(Train_X.columns)"
   ]
  },
  {
   "cell_type": "code",
   "execution_count": 20,
   "metadata": {},
   "outputs": [],
   "source": [
    "# KNN Imputer 인스턴스화\n",
    "from sklearn.impute import KNNImputer\n",
    "KI = KNNImputer(n_neighbors = 5)\n",
    "\n",
    "# KNN Imputer 학습\n",
    "KI.fit(Train_X)\n",
    "\n",
    "# 결측 대체\n",
    "Train_X = pd.DataFrame(KI.transform(Train_X), columns = Train_X.columns)\n",
    "Test_X = pd.DataFrame(KI.transform(Test_X), columns = Test_X.columns)"
   ]
  },
  {
   "cell_type": "code",
   "execution_count": 21,
   "metadata": {},
   "outputs": [
    {
     "data": {
      "text/plain": [
       "BI-RADS    0.0\n",
       "Age        0.0\n",
       "Shape      0.0\n",
       "Margin     0.0\n",
       "Density    0.0\n",
       "dtype: float64"
      ]
     },
     "execution_count": 21,
     "metadata": {},
     "output_type": "execute_result"
    }
   ],
   "source": [
    "Train_X.isnull().sum() / len(Train_X)"
   ]
  },
  {
   "cell_type": "markdown",
   "metadata": {},
   "source": [
    "### 범주형 변수 처리\n",
    "1. 더미화\n",
    "2. 연속형 변수 치환"
   ]
  },
  {
   "cell_type": "code",
   "execution_count": 26,
   "metadata": {},
   "outputs": [
    {
     "data": {
      "text/plain": [
       "negative    632\n",
       "positive     16\n",
       "Name: Class, dtype: int64"
      ]
     },
     "execution_count": 26,
     "metadata": {},
     "output_type": "execute_result"
    }
   ],
   "source": [
    "df = pd.read_csv(\"car-good.csv\")\n",
    "X = df.drop('Class', axis = 1)\n",
    "Y = df['Class']\n",
    "Train_X, Test_X, Train_Y, Test_Y = train_test_split(X, Y)\n",
    "Train_Y.value_counts()"
   ]
  },
  {
   "cell_type": "code",
   "execution_count": 27,
   "metadata": {},
   "outputs": [
    {
     "data": {
      "text/html": [
       "<div>\n",
       "<style scoped>\n",
       "    .dataframe tbody tr th:only-of-type {\n",
       "        vertical-align: middle;\n",
       "    }\n",
       "\n",
       "    .dataframe tbody tr th {\n",
       "        vertical-align: top;\n",
       "    }\n",
       "\n",
       "    .dataframe thead th {\n",
       "        text-align: right;\n",
       "    }\n",
       "</style>\n",
       "<table border=\"1\" class=\"dataframe\">\n",
       "  <thead>\n",
       "    <tr style=\"text-align: right;\">\n",
       "      <th></th>\n",
       "      <th>Buying</th>\n",
       "      <th>Maint</th>\n",
       "      <th>Doors</th>\n",
       "      <th>Persons</th>\n",
       "      <th>Lug_boot</th>\n",
       "      <th>Safety</th>\n",
       "    </tr>\n",
       "  </thead>\n",
       "  <tbody>\n",
       "    <tr>\n",
       "      <th>509</th>\n",
       "      <td>med</td>\n",
       "      <td>high</td>\n",
       "      <td>3</td>\n",
       "      <td>2</td>\n",
       "      <td>med</td>\n",
       "      <td>high</td>\n",
       "    </tr>\n",
       "    <tr>\n",
       "      <th>499</th>\n",
       "      <td>med</td>\n",
       "      <td>high</td>\n",
       "      <td>2</td>\n",
       "      <td>4</td>\n",
       "      <td>med</td>\n",
       "      <td>med</td>\n",
       "    </tr>\n",
       "    <tr>\n",
       "      <th>175</th>\n",
       "      <td>vhigh</td>\n",
       "      <td>low</td>\n",
       "      <td>2</td>\n",
       "      <td>4</td>\n",
       "      <td>med</td>\n",
       "      <td>med</td>\n",
       "    </tr>\n",
       "    <tr>\n",
       "      <th>353</th>\n",
       "      <td>high</td>\n",
       "      <td>med</td>\n",
       "      <td>3</td>\n",
       "      <td>4</td>\n",
       "      <td>small</td>\n",
       "      <td>high</td>\n",
       "    </tr>\n",
       "    <tr>\n",
       "      <th>235</th>\n",
       "      <td>high</td>\n",
       "      <td>vhigh</td>\n",
       "      <td>3</td>\n",
       "      <td>2</td>\n",
       "      <td>small</td>\n",
       "      <td>med</td>\n",
       "    </tr>\n",
       "  </tbody>\n",
       "</table>\n",
       "</div>"
      ],
      "text/plain": [
       "    Buying  Maint  Doors  Persons Lug_boot Safety\n",
       "509    med   high      3        2      med   high\n",
       "499    med   high      2        4      med    med\n",
       "175  vhigh    low      2        4      med    med\n",
       "353   high    med      3        4    small   high\n",
       "235   high  vhigh      3        2    small    med"
      ]
     },
     "execution_count": 27,
     "metadata": {},
     "output_type": "execute_result"
    }
   ],
   "source": [
    "# 문자 라벨을 숫자로 치환 \n",
    "Train_Y.replace({\"negative\":-1, \"positive\":1}, inplace = True)\n",
    "Test_Y.replace({\"negative\":-1, \"positive\":1}, inplace = True)\n",
    "Train_X.head()"
   ]
  },
  {
   "cell_type": "code",
   "execution_count": 28,
   "metadata": {},
   "outputs": [
    {
     "name": "stdout",
     "output_type": "stream",
     "text": [
      "Buying 4\n",
      "Maint 4\n",
      "Doors 3\n",
      "Persons 2\n",
      "Lug_boot 3\n",
      "Safety 3\n"
     ]
    }
   ],
   "source": [
    "# 자세한 범주형 변수 판별 => 모든 변수가 범주형임을 확인\n",
    "for col in Train_X.columns:\n",
    "    print(col, len(Train_X[col].unique()))"
   ]
  },
  {
   "cell_type": "code",
   "execution_count": 29,
   "metadata": {},
   "outputs": [],
   "source": [
    "Train_X = Train_X.astype(str) # 모든 변수가 범주이므로, 더미화를 위해 전부 string 타입으로 변환"
   ]
  },
  {
   "cell_type": "code",
   "execution_count": 34,
   "metadata": {},
   "outputs": [
    {
     "name": "stderr",
     "output_type": "stream",
     "text": [
      "C:\\Users\\Gyu\\Anaconda3\\envs\\py37\\lib\\site-packages\\ipykernel_launcher.py:5: SettingWithCopyWarning: \n",
      "A value is trying to be set on a copy of a slice from a DataFrame.\n",
      "Try using .loc[row_indexer,col_indexer] = value instead\n",
      "\n",
      "See the caveats in the documentation: https://pandas.pydata.org/pandas-docs/stable/user_guide/indexing.html#returning-a-view-versus-a-copy\n",
      "  \"\"\"\n"
     ]
    }
   ],
   "source": [
    "Train_df = pd.concat([Train_X, Train_Y], axis = 1)\n",
    "for col in Train_X.columns: # 보통은 범주 변수만 순회\n",
    "    temp_dict = Train_df.groupby(col)['Class'].mean().to_dict() # col에 따른 Class의 평균을 나타내는 사전 (replace를 쓰기 위해, 사전으로 만듦)\n",
    "    Train_df[col] = Train_df[col].replace(temp_dict) # 변수 치환    \n",
    "    Test_X[col] = Test_X[col].astype(str).replace(temp_dict)"
   ]
  },
  {
   "cell_type": "code",
   "execution_count": 36,
   "metadata": {},
   "outputs": [
    {
     "data": {
      "text/html": [
       "<div>\n",
       "<style scoped>\n",
       "    .dataframe tbody tr th:only-of-type {\n",
       "        vertical-align: middle;\n",
       "    }\n",
       "\n",
       "    .dataframe tbody tr th {\n",
       "        vertical-align: top;\n",
       "    }\n",
       "\n",
       "    .dataframe thead th {\n",
       "        text-align: right;\n",
       "    }\n",
       "</style>\n",
       "<table border=\"1\" class=\"dataframe\">\n",
       "  <thead>\n",
       "    <tr style=\"text-align: right;\">\n",
       "      <th></th>\n",
       "      <th>Buying</th>\n",
       "      <th>Maint</th>\n",
       "      <th>Doors</th>\n",
       "      <th>Persons</th>\n",
       "      <th>Lug_boot</th>\n",
       "      <th>Safety</th>\n",
       "      <th>Class</th>\n",
       "    </tr>\n",
       "  </thead>\n",
       "  <tbody>\n",
       "    <tr>\n",
       "      <th>509</th>\n",
       "      <td>-0.959459</td>\n",
       "      <td>-1.000000</td>\n",
       "      <td>-0.944186</td>\n",
       "      <td>-1.000000</td>\n",
       "      <td>-0.944700</td>\n",
       "      <td>-0.913876</td>\n",
       "      <td>-1</td>\n",
       "    </tr>\n",
       "    <tr>\n",
       "      <th>499</th>\n",
       "      <td>-0.959459</td>\n",
       "      <td>-1.000000</td>\n",
       "      <td>-0.962791</td>\n",
       "      <td>-0.903323</td>\n",
       "      <td>-0.944700</td>\n",
       "      <td>-0.936652</td>\n",
       "      <td>-1</td>\n",
       "    </tr>\n",
       "    <tr>\n",
       "      <th>175</th>\n",
       "      <td>-1.000000</td>\n",
       "      <td>-0.891566</td>\n",
       "      <td>-0.962791</td>\n",
       "      <td>-0.903323</td>\n",
       "      <td>-0.944700</td>\n",
       "      <td>-0.936652</td>\n",
       "      <td>-1</td>\n",
       "    </tr>\n",
       "    <tr>\n",
       "      <th>353</th>\n",
       "      <td>-1.000000</td>\n",
       "      <td>-0.914634</td>\n",
       "      <td>-0.944186</td>\n",
       "      <td>-0.903323</td>\n",
       "      <td>-0.952381</td>\n",
       "      <td>-0.913876</td>\n",
       "      <td>-1</td>\n",
       "    </tr>\n",
       "    <tr>\n",
       "      <th>235</th>\n",
       "      <td>-1.000000</td>\n",
       "      <td>-1.000000</td>\n",
       "      <td>-0.944186</td>\n",
       "      <td>-1.000000</td>\n",
       "      <td>-0.952381</td>\n",
       "      <td>-0.936652</td>\n",
       "      <td>-1</td>\n",
       "    </tr>\n",
       "  </tbody>\n",
       "</table>\n",
       "</div>"
      ],
      "text/plain": [
       "       Buying     Maint     Doors   Persons  Lug_boot    Safety  Class\n",
       "509 -0.959459 -1.000000 -0.944186 -1.000000 -0.944700 -0.913876     -1\n",
       "499 -0.959459 -1.000000 -0.962791 -0.903323 -0.944700 -0.936652     -1\n",
       "175 -1.000000 -0.891566 -0.962791 -0.903323 -0.944700 -0.936652     -1\n",
       "353 -1.000000 -0.914634 -0.944186 -0.903323 -0.952381 -0.913876     -1\n",
       "235 -1.000000 -1.000000 -0.944186 -1.000000 -0.952381 -0.936652     -1"
      ]
     },
     "execution_count": 36,
     "metadata": {},
     "output_type": "execute_result"
    }
   ],
   "source": [
    "Train_df.head()"
   ]
  },
  {
   "cell_type": "code",
   "execution_count": 39,
   "metadata": {},
   "outputs": [
    {
     "data": {
      "text/plain": [
       "0.0"
      ]
     },
     "execution_count": 39,
     "metadata": {},
     "output_type": "execute_result"
    }
   ],
   "source": [
    "from sklearn.neighbors import KNeighborsClassifier as KNN\n",
    "from sklearn.metrics import f1_score\n",
    "Train_X = Train_df.drop('Class', axis = 1)\n",
    "Train_Y = Train_df['Class']\n",
    "\n",
    "# 치환한 뒤의 모델 테스트\n",
    "model = KNN().fit(Train_X, Train_Y)\n",
    "pred_Y = model.predict(Test_X)\n",
    "\n",
    "f1_score(Test_Y, pred_Y) #ㅎ...."
   ]
  },
  {
   "cell_type": "code",
   "execution_count": null,
   "metadata": {},
   "outputs": [],
   "source": []
  }
 ],
 "metadata": {
  "kernelspec": {
   "display_name": "Python [conda env:py37] *",
   "language": "python",
   "name": "conda-env-py37-py"
  },
  "language_info": {
   "codemirror_mode": {
    "name": "ipython",
    "version": 3
   },
   "file_extension": ".py",
   "mimetype": "text/x-python",
   "name": "python",
   "nbconvert_exporter": "python",
   "pygments_lexer": "ipython3",
   "version": "3.6.9"
  }
 },
 "nbformat": 4,
 "nbformat_minor": 2
}
