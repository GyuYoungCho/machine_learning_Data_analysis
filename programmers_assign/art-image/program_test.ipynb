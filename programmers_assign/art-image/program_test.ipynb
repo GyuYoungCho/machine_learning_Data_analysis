{
  "nbformat": 4,
  "nbformat_minor": 0,
  "metadata": {
    "colab": {
      "name": "program_test.ipynb",
      "provenance": [],
      "collapsed_sections": []
    },
    "kernelspec": {
      "name": "python3",
      "display_name": "Python 3"
    },
    "language_info": {
      "name": "python"
    },
    "accelerator": "GPU"
  },
  "cells": [
    {
      "cell_type": "code",
      "metadata": {
        "colab": {
          "base_uri": "https://localhost:8080/"
        },
        "id": "5mMudWEcPBOa",
        "outputId": "793c9825-34b9-470b-a89d-58e2d7d3d590"
      },
      "source": [
        "from google.colab import drive\n",
        "drive.mount('/content/gdrive')"
      ],
      "execution_count": 1,
      "outputs": [
        {
          "output_type": "stream",
          "text": [
            "Drive already mounted at /content/gdrive; to attempt to forcibly remount, call drive.mount(\"/content/gdrive\", force_remount=True).\n"
          ],
          "name": "stdout"
        }
      ]
    },
    {
      "cell_type": "code",
      "metadata": {
        "id": "o_nRlnJVPPpq"
      },
      "source": [
        "import tensorflow as tf\n",
        "import pathlib\n",
        "data = pathlib.Path(\"gdrive/My Drive/Data/program_machine/train\")\n",
        "test = pathlib.Path(\"gdrive/My Drive/Data/program_machine/test\")"
      ],
      "execution_count": 1,
      "outputs": []
    },
    {
      "cell_type": "markdown",
      "metadata": {
        "id": "ZVU4IkvDQI3M"
      },
      "source": [
        "## ImageDataGenerator\n",
        "\n",
        "- augmentation 하기 위해\n",
        "- 같은 경로에서 가져와도 validation split과 subset을 이용해 분할 가능\n",
        "- test는 스케일 적용만 함"
      ]
    },
    {
      "cell_type": "code",
      "metadata": {
        "colab": {
          "base_uri": "https://localhost:8080/"
        },
        "id": "eRGwwTXiemm0",
        "outputId": "0c80768b-bfc8-4e04-f83c-f3d3563dd677"
      },
      "source": [
        "imger = tf.keras.preprocessing.image.ImageDataGenerator(rescale=1./255,horizontal_flip=True,rotation_range=10,validation_split=0.15,width_shift_range=0.1,\n",
        "        height_shift_range=0.1,\n",
        "        shear_range=0.1,\n",
        "        zoom_range=0.1,brightness_range=[0.9,1.1])\n",
        "test_imger = tf.keras.preprocessing.image.ImageDataGenerator(rescale=1./255)\n",
        "\n",
        "train_temp = imger.flow_from_directory(data, batch_size=32, shuffle=True,subset='training')\n",
        "valid_temp = imger.flow_from_directory(data, batch_size=32, shuffle=True,subset='validation')\n",
        "test_temp = test_imger.flow_from_directory(test,batch_size=32,shuffle=False)"
      ],
      "execution_count": 156,
      "outputs": [
        {
          "output_type": "stream",
          "text": [
            "Found 1447 images belonging to 7 classes.\n",
            "Found 251 images belonging to 7 classes.\n",
            "Found 350 images belonging to 1 classes.\n"
          ],
          "name": "stdout"
        }
      ]
    },
    {
      "cell_type": "markdown",
      "metadata": {
        "id": "YCg4bK3YQ6gh"
      },
      "source": [
        "## Transfer Learning\n",
        "- InceptionResNetV2 모델을 가져와 사용"
      ]
    },
    {
      "cell_type": "code",
      "metadata": {
        "colab": {
          "base_uri": "https://localhost:8080/"
        },
        "id": "-LTPnZGf2jh0",
        "outputId": "c46199a1-6374-44ca-cb4c-d5d08586c70f"
      },
      "source": [
        "m1 = tf.keras.applications.InceptionResNetV2(include_top=False, input_shape=(256,256,3))"
      ],
      "execution_count": 15,
      "outputs": [
        {
          "output_type": "stream",
          "text": [
            "Downloading data from https://storage.googleapis.com/tensorflow/keras-applications/inception_resnet_v2/inception_resnet_v2_weights_tf_dim_ordering_tf_kernels_notop.h5\n",
            "219062272/219055592 [==============================] - 1s 0us/step\n"
          ],
          "name": "stdout"
        }
      ]
    },
    {
      "cell_type": "code",
      "metadata": {
        "colab": {
          "base_uri": "https://localhost:8080/"
        },
        "id": "_ANrwhT43jj8",
        "outputId": "dbdb5aed-a670-440a-f592-6829f426ce3c"
      },
      "source": [
        "m1.trainable = False\n",
        "global_average_pooling = tf.keras.layers.GlobalAveragePooling2D()\n",
        "mid1 = tf.keras.layers.Dense(256)\n",
        "mid2 = tf.keras.layers.Dense(64)\n",
        "last = tf.keras.layers.Dense(7)\n",
        "\n",
        "model = tf.keras.models.Sequential([\n",
        "    m1,  global_average_pooling, mid, mid2, last\n",
        "])\n",
        "\n",
        "model.summary()"
      ],
      "execution_count": 161,
      "outputs": [
        {
          "output_type": "stream",
          "text": [
            "Model: \"sequential_29\"\n",
            "_________________________________________________________________\n",
            "Layer (type)                 Output Shape              Param #   \n",
            "=================================================================\n",
            "inception_resnet_v2 (Functio (None, 6, 6, 1536)        54336736  \n",
            "_________________________________________________________________\n",
            "global_average_pooling2d_23  (None, 1536)              0         \n",
            "_________________________________________________________________\n",
            "dense_49 (Dense)             (None, 256)               393472    \n",
            "_________________________________________________________________\n",
            "dense_52 (Dense)             (None, 64)                16448     \n",
            "_________________________________________________________________\n",
            "dense_53 (Dense)             (None, 7)                 455       \n",
            "=================================================================\n",
            "Total params: 54,747,111\n",
            "Trainable params: 410,375\n",
            "Non-trainable params: 54,336,736\n",
            "_________________________________________________________________\n"
          ],
          "name": "stdout"
        }
      ]
    },
    {
      "cell_type": "markdown",
      "metadata": {
        "id": "OUI-lJQYY5c0"
      },
      "source": [
        "callback 적용"
      ]
    },
    {
      "cell_type": "code",
      "metadata": {
        "id": "NYwolXhs5HnS"
      },
      "source": [
        "from tensorflow.keras.callbacks import EarlyStopping, LearningRateScheduler\n",
        "\n",
        "es = EarlyStopping(patience=10);\n",
        "lr = ReduceLROnPlateau( factor=0.8, mode='min', patience=3, min_lr=0.00001)\n",
        "\n",
        "model.compile(loss=tf.keras.losses.CategoricalCrossentropy(from_logits=True),\n",
        "             optimizer='adam',metrics=['accuracy'])\n"
      ],
      "execution_count": 162,
      "outputs": []
    },
    {
      "cell_type": "code",
      "metadata": {
        "colab": {
          "base_uri": "https://localhost:8080/"
        },
        "id": "lp_xECr1PCze",
        "outputId": "990daea3-aaa3-452d-8780-fd54c370cfe8"
      },
      "source": [
        "history = model.fit(train_temp, steps_per_epoch = train_temp.samples/32, validation_data = valid_temp, \n",
        "    validation_steps = valid_temp.samples/32, epochs = 100, callbacks=[es,lr])"
      ],
      "execution_count": 163,
      "outputs": [
        {
          "output_type": "stream",
          "text": [
            "Epoch 1/100\n",
            "45/45 [==============================] - 42s 739ms/step - loss: 2.1621 - accuracy: 0.5574 - val_loss: 0.3064 - val_accuracy: 0.9283\n",
            "Epoch 2/100\n",
            "45/45 [==============================] - 31s 676ms/step - loss: 0.3545 - accuracy: 0.8926 - val_loss: 0.1802 - val_accuracy: 0.9482\n",
            "Epoch 3/100\n",
            "45/45 [==============================] - 31s 675ms/step - loss: 0.2531 - accuracy: 0.9152 - val_loss: 0.2291 - val_accuracy: 0.9522\n",
            "Epoch 4/100\n",
            "45/45 [==============================] - 31s 682ms/step - loss: 0.3228 - accuracy: 0.8941 - val_loss: 0.2279 - val_accuracy: 0.9442\n",
            "Epoch 5/100\n",
            "45/45 [==============================] - 31s 680ms/step - loss: 0.2679 - accuracy: 0.9088 - val_loss: 0.2349 - val_accuracy: 0.9442\n",
            "Epoch 6/100\n",
            "45/45 [==============================] - 31s 679ms/step - loss: 0.1977 - accuracy: 0.9397 - val_loss: 0.2312 - val_accuracy: 0.9363\n",
            "Epoch 7/100\n",
            "45/45 [==============================] - 31s 678ms/step - loss: 0.1701 - accuracy: 0.9513 - val_loss: 0.1967 - val_accuracy: 0.9442\n",
            "Epoch 8/100\n",
            "45/45 [==============================] - 31s 675ms/step - loss: 0.1374 - accuracy: 0.9542 - val_loss: 0.2428 - val_accuracy: 0.9323\n",
            "Epoch 9/100\n",
            "45/45 [==============================] - 31s 674ms/step - loss: 0.1676 - accuracy: 0.9446 - val_loss: 0.2854 - val_accuracy: 0.9203\n",
            "Epoch 10/100\n",
            "45/45 [==============================] - 31s 678ms/step - loss: 0.1081 - accuracy: 0.9632 - val_loss: 0.2750 - val_accuracy: 0.9203\n",
            "Epoch 11/100\n",
            "45/45 [==============================] - 30s 668ms/step - loss: 0.1278 - accuracy: 0.9575 - val_loss: 0.2049 - val_accuracy: 0.9402\n",
            "Epoch 12/100\n",
            "45/45 [==============================] - 30s 671ms/step - loss: 0.0882 - accuracy: 0.9730 - val_loss: 0.1933 - val_accuracy: 0.9602\n"
          ],
          "name": "stdout"
        }
      ]
    },
    {
      "cell_type": "code",
      "metadata": {
        "id": "i67NL4vGwiul"
      },
      "source": [
        "result = model.predict(test_temp)"
      ],
      "execution_count": 164,
      "outputs": []
    },
    {
      "cell_type": "markdown",
      "metadata": {
        "id": "Vb99TrnWZMyy"
      },
      "source": [
        "## 결과"
      ]
    },
    {
      "cell_type": "code",
      "metadata": {
        "id": "OIeebl0aAe-c"
      },
      "source": [
        "import pandas as pd\n",
        "pred = pd.read_csv(\"gdrive/My Drive/Data/program_machine/test_answer_sample_.csv\",index_col=\"Unnamed: 0\")"
      ],
      "execution_count": 165,
      "outputs": []
    },
    {
      "cell_type": "code",
      "metadata": {
        "id": "pWBVUwdpAojP"
      },
      "source": [
        "pred['answer value'] = result.argmax(axis=1)\n",
        "pred.to_csv(\"gdrive/My Drive/Data/program_machine/prediction2.csv\")"
      ],
      "execution_count": 166,
      "outputs": []
    },
    {
      "cell_type": "code",
      "metadata": {
        "id": "QvjS9VBu-jjA"
      },
      "source": [
        ""
      ],
      "execution_count": null,
      "outputs": []
    }
  ]
}